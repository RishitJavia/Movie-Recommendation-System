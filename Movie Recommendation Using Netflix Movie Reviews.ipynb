{
 "cells": [
  {
   "cell_type": "markdown",
   "id": "addressed-basic",
   "metadata": {
    "papermill": {
     "duration": 0.033852,
     "end_time": "2021-06-19T12:51:29.580026",
     "exception": false,
     "start_time": "2021-06-19T12:51:29.546174",
     "status": "completed"
    },
    "tags": []
   },
   "source": [
    "# Movie Recommendation using Netflix Movie Reviews\n",
    "\n",
    "\n"
   ]
  },
  {
   "cell_type": "markdown",
   "id": "demonstrated-pride",
   "metadata": {
    "papermill": {
     "duration": 0.031817,
     "end_time": "2021-06-19T12:51:29.642694",
     "exception": false,
     "start_time": "2021-06-19T12:51:29.610877",
     "status": "completed"
    },
    "tags": []
   },
   "source": [
    "This project aims to build a movie recommendation system using Netflix Movie Ratings. There are 17337458 Ratings given by 143458 users to 1350 movies. Ratings are in the form of Integer i.e. 1 - 5\n",
    "\n",
    "### *Please Upvote if this notebook is helpful to you in some ways!*\n",
    "So let's get started"
   ]
  },
  {
   "cell_type": "markdown",
   "id": "unique-shock",
   "metadata": {
    "papermill": {
     "duration": 0.030464,
     "end_time": "2021-06-19T12:51:29.703752",
     "exception": false,
     "start_time": "2021-06-19T12:51:29.673288",
     "status": "completed"
    },
    "tags": []
   },
   "source": [
    "\n",
    "**Table of Content**\n"
   ]
  },
  {
   "cell_type": "markdown",
   "id": "greater-immunology",
   "metadata": {
    "papermill": {
     "duration": 0.030696,
     "end_time": "2021-06-19T12:51:29.765285",
     "exception": false,
     "start_time": "2021-06-19T12:51:29.734589",
     "status": "completed"
    },
    "tags": []
   },
   "source": [
    "\n",
    "#### 1.  Load Rating Data\n",
    "#### 2.  Load Movie Data\n",
    "#### 3.  Analyze Data\n",
    "#### 4.  Recommendation Model\n",
    "#### 4.1 Collaborative Filtering - SVD\n",
    "#### 4.2 Pearson Correlation Method"
   ]
  },
  {
   "cell_type": "code",
   "execution_count": 1,
   "id": "varied-clarity",
   "metadata": {
    "_cell_guid": "b1076dfc-b9ad-4769-8c92-a6c4dae69d19",
    "_uuid": "8f2839f25d086af736a60e9eeb907d3b93b6e0e5",
    "execution": {
     "iopub.execute_input": "2021-06-19T12:51:29.830393Z",
     "iopub.status.busy": "2021-06-19T12:51:29.829240Z",
     "iopub.status.idle": "2021-06-19T12:51:30.007078Z",
     "shell.execute_reply": "2021-06-19T12:51:30.006261Z",
     "shell.execute_reply.started": "2021-06-18T16:02:20.806019Z"
    },
    "papermill": {
     "duration": 0.211525,
     "end_time": "2021-06-19T12:51:30.007247",
     "exception": false,
     "start_time": "2021-06-19T12:51:29.795722",
     "status": "completed"
    },
    "tags": []
   },
   "outputs": [],
   "source": [
    "import pandas as pd\n",
    "import numpy as np\n",
    "from surprise import Reader, Dataset, SVD\n",
    "from surprise import accuracy\n",
    "from surprise.model_selection import train_test_split\n",
    "import matplotlib.pyplot as plt\n",
    "import warnings; warnings.simplefilter('ignore')\n",
    "import plotly.graph_objs as go\n",
    "from plotly.offline import init_notebook_mode, plot, iplot"
   ]
  },
  {
   "cell_type": "markdown",
   "id": "comprehensive-nickel",
   "metadata": {
    "papermill": {
     "duration": 0.030411,
     "end_time": "2021-06-19T12:51:30.068715",
     "exception": false,
     "start_time": "2021-06-19T12:51:30.038304",
     "status": "completed"
    },
    "tags": []
   },
   "source": [
    "# 1. Load Rating Data"
   ]
  },
  {
   "cell_type": "code",
   "execution_count": 2,
   "id": "substantial-triangle",
   "metadata": {
    "execution": {
     "iopub.execute_input": "2021-06-19T12:51:30.135722Z",
     "iopub.status.busy": "2021-06-19T12:51:30.134988Z",
     "iopub.status.idle": "2021-06-19T12:51:36.781367Z",
     "shell.execute_reply": "2021-06-19T12:51:36.780769Z",
     "shell.execute_reply.started": "2021-06-18T16:02:23.791380Z"
    },
    "papermill": {
     "duration": 6.682034,
     "end_time": "2021-06-19T12:51:36.781531",
     "exception": false,
     "start_time": "2021-06-19T12:51:30.099497",
     "status": "completed"
    },
    "tags": []
   },
   "outputs": [
    {
     "data": {
      "text/html": [
       "<div>\n",
       "<style scoped>\n",
       "    .dataframe tbody tr th:only-of-type {\n",
       "        vertical-align: middle;\n",
       "    }\n",
       "\n",
       "    .dataframe tbody tr th {\n",
       "        vertical-align: top;\n",
       "    }\n",
       "\n",
       "    .dataframe thead th {\n",
       "        text-align: right;\n",
       "    }\n",
       "</style>\n",
       "<table border=\"1\" class=\"dataframe\">\n",
       "  <thead>\n",
       "    <tr style=\"text-align: right;\">\n",
       "      <th></th>\n",
       "      <th>User_ID</th>\n",
       "      <th>Rating</th>\n",
       "      <th>Movie_ID</th>\n",
       "    </tr>\n",
       "  </thead>\n",
       "  <tbody>\n",
       "    <tr>\n",
       "      <th>0</th>\n",
       "      <td>712664</td>\n",
       "      <td>5</td>\n",
       "      <td>3</td>\n",
       "    </tr>\n",
       "    <tr>\n",
       "      <th>1</th>\n",
       "      <td>1331154</td>\n",
       "      <td>4</td>\n",
       "      <td>3</td>\n",
       "    </tr>\n",
       "    <tr>\n",
       "      <th>2</th>\n",
       "      <td>2632461</td>\n",
       "      <td>3</td>\n",
       "      <td>3</td>\n",
       "    </tr>\n",
       "    <tr>\n",
       "      <th>3</th>\n",
       "      <td>44937</td>\n",
       "      <td>5</td>\n",
       "      <td>3</td>\n",
       "    </tr>\n",
       "    <tr>\n",
       "      <th>4</th>\n",
       "      <td>656399</td>\n",
       "      <td>4</td>\n",
       "      <td>3</td>\n",
       "    </tr>\n",
       "    <tr>\n",
       "      <th>...</th>\n",
       "      <td>...</td>\n",
       "      <td>...</td>\n",
       "      <td>...</td>\n",
       "    </tr>\n",
       "    <tr>\n",
       "      <th>17337453</th>\n",
       "      <td>520675</td>\n",
       "      <td>3</td>\n",
       "      <td>4496</td>\n",
       "    </tr>\n",
       "    <tr>\n",
       "      <th>17337454</th>\n",
       "      <td>1055714</td>\n",
       "      <td>5</td>\n",
       "      <td>4496</td>\n",
       "    </tr>\n",
       "    <tr>\n",
       "      <th>17337455</th>\n",
       "      <td>2643029</td>\n",
       "      <td>4</td>\n",
       "      <td>4496</td>\n",
       "    </tr>\n",
       "    <tr>\n",
       "      <th>17337456</th>\n",
       "      <td>1559566</td>\n",
       "      <td>3</td>\n",
       "      <td>4496</td>\n",
       "    </tr>\n",
       "    <tr>\n",
       "      <th>17337457</th>\n",
       "      <td>293198</td>\n",
       "      <td>3</td>\n",
       "      <td>4496</td>\n",
       "    </tr>\n",
       "  </tbody>\n",
       "</table>\n",
       "<p>17337458 rows × 3 columns</p>\n",
       "</div>"
      ],
      "text/plain": [
       "          User_ID  Rating  Movie_ID\n",
       "0          712664       5         3\n",
       "1         1331154       4         3\n",
       "2         2632461       3         3\n",
       "3           44937       5         3\n",
       "4          656399       4         3\n",
       "...           ...     ...       ...\n",
       "17337453   520675       3      4496\n",
       "17337454  1055714       5      4496\n",
       "17337455  2643029       4      4496\n",
       "17337456  1559566       3      4496\n",
       "17337457   293198       3      4496\n",
       "\n",
       "[17337458 rows x 3 columns]"
      ]
     },
     "execution_count": 2,
     "metadata": {},
     "output_type": "execute_result"
    }
   ],
   "source": [
    "df = pd.read_csv('../input/netflix-movie-rating-dataset/Netflix_Dataset_Rating.csv')\n",
    "df"
   ]
  },
  {
   "cell_type": "code",
   "execution_count": 3,
   "id": "appreciated-learning",
   "metadata": {
    "execution": {
     "iopub.execute_input": "2021-06-19T12:51:36.851867Z",
     "iopub.status.busy": "2021-06-19T12:51:36.850955Z",
     "iopub.status.idle": "2021-06-19T12:51:36.855271Z",
     "shell.execute_reply": "2021-06-19T12:51:36.854779Z",
     "shell.execute_reply.started": "2021-06-18T14:54:11.634134Z"
    },
    "papermill": {
     "duration": 0.04215,
     "end_time": "2021-06-19T12:51:36.855433",
     "exception": false,
     "start_time": "2021-06-19T12:51:36.813283",
     "status": "completed"
    },
    "tags": []
   },
   "outputs": [
    {
     "data": {
      "text/plain": [
       "User_ID     int64\n",
       "Rating      int64\n",
       "Movie_ID    int64\n",
       "dtype: object"
      ]
     },
     "execution_count": 3,
     "metadata": {},
     "output_type": "execute_result"
    }
   ],
   "source": [
    "df.dtypes"
   ]
  },
  {
   "cell_type": "code",
   "execution_count": 4,
   "id": "tamil-parade",
   "metadata": {
    "execution": {
     "iopub.execute_input": "2021-06-19T12:51:36.934211Z",
     "iopub.status.busy": "2021-06-19T12:51:36.933294Z",
     "iopub.status.idle": "2021-06-19T12:51:36.937467Z",
     "shell.execute_reply": "2021-06-19T12:51:36.936761Z",
     "shell.execute_reply.started": "2021-06-18T14:54:11.645002Z"
    },
    "papermill": {
     "duration": 0.050542,
     "end_time": "2021-06-19T12:51:36.937611",
     "exception": false,
     "start_time": "2021-06-19T12:51:36.887069",
     "status": "completed"
    },
    "tags": []
   },
   "outputs": [
    {
     "name": "stdout",
     "output_type": "stream",
     "text": [
      "<class 'pandas.core.frame.DataFrame'>\n",
      "RangeIndex: 17337458 entries, 0 to 17337457\n",
      "Data columns (total 3 columns):\n",
      " #   Column    Dtype\n",
      "---  ------    -----\n",
      " 0   User_ID   int64\n",
      " 1   Rating    int64\n",
      " 2   Movie_ID  int64\n",
      "dtypes: int64(3)\n",
      "memory usage: 396.8 MB\n"
     ]
    }
   ],
   "source": [
    "df.info()"
   ]
  },
  {
   "cell_type": "code",
   "execution_count": 5,
   "id": "finnish-hanging",
   "metadata": {
    "execution": {
     "iopub.execute_input": "2021-06-19T12:51:37.009798Z",
     "iopub.status.busy": "2021-06-19T12:51:37.008273Z",
     "iopub.status.idle": "2021-06-19T12:51:37.546216Z",
     "shell.execute_reply": "2021-06-19T12:51:37.545391Z",
     "shell.execute_reply.started": "2021-06-18T14:54:11.674161Z"
    },
    "papermill": {
     "duration": 0.576756,
     "end_time": "2021-06-19T12:51:37.546368",
     "exception": false,
     "start_time": "2021-06-19T12:51:36.969612",
     "status": "completed"
    },
    "tags": []
   },
   "outputs": [
    {
     "data": {
      "text/plain": [
       "count    17337458\n",
       "mean            3\n",
       "std             1\n",
       "min             1\n",
       "25%             3\n",
       "50%             4\n",
       "75%             4\n",
       "max             5\n",
       "Name: Rating, dtype: int64"
      ]
     },
     "execution_count": 5,
     "metadata": {},
     "output_type": "execute_result"
    }
   ],
   "source": [
    "df['Rating'].describe().astype('int')"
   ]
  },
  {
   "cell_type": "code",
   "execution_count": 6,
   "id": "flexible-analysis",
   "metadata": {
    "execution": {
     "iopub.execute_input": "2021-06-19T12:51:37.617010Z",
     "iopub.status.busy": "2021-06-19T12:51:37.615698Z",
     "iopub.status.idle": "2021-06-19T12:51:38.831613Z",
     "shell.execute_reply": "2021-06-19T12:51:38.832087Z",
     "shell.execute_reply.started": "2021-06-18T14:54:12.331178Z"
    },
    "papermill": {
     "duration": 1.253648,
     "end_time": "2021-06-19T12:51:38.832267",
     "exception": false,
     "start_time": "2021-06-19T12:51:37.578619",
     "status": "completed"
    },
    "tags": []
   },
   "outputs": [
    {
     "name": "stdout",
     "output_type": "stream",
     "text": [
      "Unique Values :\n",
      " User_ID     143458\n",
      "Rating           5\n",
      "Movie_ID      1350\n",
      "dtype: int64\n"
     ]
    }
   ],
   "source": [
    "print(\"Unique Values :\\n\",df.nunique())"
   ]
  },
  {
   "cell_type": "markdown",
   "id": "sapphire-bahrain",
   "metadata": {
    "papermill": {
     "duration": 0.032465,
     "end_time": "2021-06-19T12:51:38.897239",
     "exception": false,
     "start_time": "2021-06-19T12:51:38.864774",
     "status": "completed"
    },
    "tags": []
   },
   "source": [
    "# 2. Load Movie Data"
   ]
  },
  {
   "cell_type": "code",
   "execution_count": 7,
   "id": "primary-identity",
   "metadata": {
    "execution": {
     "iopub.execute_input": "2021-06-19T12:51:38.967529Z",
     "iopub.status.busy": "2021-06-19T12:51:38.966893Z",
     "iopub.status.idle": "2021-06-19T12:51:39.010668Z",
     "shell.execute_reply": "2021-06-19T12:51:39.011122Z",
     "shell.execute_reply.started": "2021-06-18T16:02:33.530969Z"
    },
    "papermill": {
     "duration": 0.081075,
     "end_time": "2021-06-19T12:51:39.011306",
     "exception": false,
     "start_time": "2021-06-19T12:51:38.930231",
     "status": "completed"
    },
    "tags": []
   },
   "outputs": [
    {
     "data": {
      "text/html": [
       "<div>\n",
       "<style scoped>\n",
       "    .dataframe tbody tr th:only-of-type {\n",
       "        vertical-align: middle;\n",
       "    }\n",
       "\n",
       "    .dataframe tbody tr th {\n",
       "        vertical-align: top;\n",
       "    }\n",
       "\n",
       "    .dataframe thead th {\n",
       "        text-align: right;\n",
       "    }\n",
       "</style>\n",
       "<table border=\"1\" class=\"dataframe\">\n",
       "  <thead>\n",
       "    <tr style=\"text-align: right;\">\n",
       "      <th></th>\n",
       "      <th>Movie_ID</th>\n",
       "      <th>Year</th>\n",
       "      <th>Name</th>\n",
       "    </tr>\n",
       "  </thead>\n",
       "  <tbody>\n",
       "    <tr>\n",
       "      <th>0</th>\n",
       "      <td>1</td>\n",
       "      <td>2003</td>\n",
       "      <td>Dinosaur Planet</td>\n",
       "    </tr>\n",
       "    <tr>\n",
       "      <th>1</th>\n",
       "      <td>2</td>\n",
       "      <td>2004</td>\n",
       "      <td>Isle of Man TT 2004 Review</td>\n",
       "    </tr>\n",
       "    <tr>\n",
       "      <th>2</th>\n",
       "      <td>3</td>\n",
       "      <td>1997</td>\n",
       "      <td>Character</td>\n",
       "    </tr>\n",
       "    <tr>\n",
       "      <th>3</th>\n",
       "      <td>4</td>\n",
       "      <td>1994</td>\n",
       "      <td>Paula Abdul's Get Up &amp; Dance</td>\n",
       "    </tr>\n",
       "    <tr>\n",
       "      <th>4</th>\n",
       "      <td>5</td>\n",
       "      <td>2004</td>\n",
       "      <td>The Rise and Fall of ECW</td>\n",
       "    </tr>\n",
       "    <tr>\n",
       "      <th>...</th>\n",
       "      <td>...</td>\n",
       "      <td>...</td>\n",
       "      <td>...</td>\n",
       "    </tr>\n",
       "    <tr>\n",
       "      <th>17765</th>\n",
       "      <td>17766</td>\n",
       "      <td>2002</td>\n",
       "      <td>Where the Wild Things Are and Other Maurice Se...</td>\n",
       "    </tr>\n",
       "    <tr>\n",
       "      <th>17766</th>\n",
       "      <td>17767</td>\n",
       "      <td>2004</td>\n",
       "      <td>Fidel Castro: American Experience</td>\n",
       "    </tr>\n",
       "    <tr>\n",
       "      <th>17767</th>\n",
       "      <td>17768</td>\n",
       "      <td>2000</td>\n",
       "      <td>Epoch</td>\n",
       "    </tr>\n",
       "    <tr>\n",
       "      <th>17768</th>\n",
       "      <td>17769</td>\n",
       "      <td>2003</td>\n",
       "      <td>The Company</td>\n",
       "    </tr>\n",
       "    <tr>\n",
       "      <th>17769</th>\n",
       "      <td>17770</td>\n",
       "      <td>2003</td>\n",
       "      <td>Alien Hunter</td>\n",
       "    </tr>\n",
       "  </tbody>\n",
       "</table>\n",
       "<p>17770 rows × 3 columns</p>\n",
       "</div>"
      ],
      "text/plain": [
       "       Movie_ID  Year                                               Name\n",
       "0             1  2003                                    Dinosaur Planet\n",
       "1             2  2004                         Isle of Man TT 2004 Review\n",
       "2             3  1997                                          Character\n",
       "3             4  1994                       Paula Abdul's Get Up & Dance\n",
       "4             5  2004                           The Rise and Fall of ECW\n",
       "...         ...   ...                                                ...\n",
       "17765     17766  2002  Where the Wild Things Are and Other Maurice Se...\n",
       "17766     17767  2004                  Fidel Castro: American Experience\n",
       "17767     17768  2000                                              Epoch\n",
       "17768     17769  2003                                        The Company\n",
       "17769     17770  2003                                       Alien Hunter\n",
       "\n",
       "[17770 rows x 3 columns]"
      ]
     },
     "execution_count": 7,
     "metadata": {},
     "output_type": "execute_result"
    }
   ],
   "source": [
    "df_title = pd.read_csv('../input/netflix-movie-rating-dataset/Netflix_Dataset_Movie.csv')\n",
    "df_title"
   ]
  },
  {
   "cell_type": "code",
   "execution_count": 8,
   "id": "small-korea",
   "metadata": {
    "execution": {
     "iopub.execute_input": "2021-06-19T12:51:39.080379Z",
     "iopub.status.busy": "2021-06-19T12:51:39.079788Z",
     "iopub.status.idle": "2021-06-19T12:51:39.086103Z",
     "shell.execute_reply": "2021-06-19T12:51:39.086688Z",
     "shell.execute_reply.started": "2021-06-18T14:54:13.768057Z"
    },
    "papermill": {
     "duration": 0.042566,
     "end_time": "2021-06-19T12:51:39.086858",
     "exception": false,
     "start_time": "2021-06-19T12:51:39.044292",
     "status": "completed"
    },
    "tags": []
   },
   "outputs": [
    {
     "data": {
      "text/plain": [
       "Movie_ID     int64\n",
       "Year         int64\n",
       "Name        object\n",
       "dtype: object"
      ]
     },
     "execution_count": 8,
     "metadata": {},
     "output_type": "execute_result"
    }
   ],
   "source": [
    "df_title.dtypes"
   ]
  },
  {
   "cell_type": "code",
   "execution_count": 9,
   "id": "narrow-privilege",
   "metadata": {
    "execution": {
     "iopub.execute_input": "2021-06-19T12:51:39.156700Z",
     "iopub.status.busy": "2021-06-19T12:51:39.156014Z",
     "iopub.status.idle": "2021-06-19T12:51:39.172325Z",
     "shell.execute_reply": "2021-06-19T12:51:39.173008Z",
     "shell.execute_reply.started": "2021-06-18T14:54:13.781096Z"
    },
    "papermill": {
     "duration": 0.053189,
     "end_time": "2021-06-19T12:51:39.173250",
     "exception": false,
     "start_time": "2021-06-19T12:51:39.120061",
     "status": "completed"
    },
    "tags": []
   },
   "outputs": [
    {
     "name": "stdout",
     "output_type": "stream",
     "text": [
      "<class 'pandas.core.frame.DataFrame'>\n",
      "RangeIndex: 17770 entries, 0 to 17769\n",
      "Data columns (total 3 columns):\n",
      " #   Column    Non-Null Count  Dtype \n",
      "---  ------    --------------  ----- \n",
      " 0   Movie_ID  17770 non-null  int64 \n",
      " 1   Year      17770 non-null  int64 \n",
      " 2   Name      17770 non-null  object\n",
      "dtypes: int64(2), object(1)\n",
      "memory usage: 416.6+ KB\n"
     ]
    }
   ],
   "source": [
    "df_title.info()"
   ]
  },
  {
   "cell_type": "code",
   "execution_count": 10,
   "id": "religious-determination",
   "metadata": {
    "execution": {
     "iopub.execute_input": "2021-06-19T12:51:39.244443Z",
     "iopub.status.busy": "2021-06-19T12:51:39.243789Z",
     "iopub.status.idle": "2021-06-19T12:51:39.253671Z",
     "shell.execute_reply": "2021-06-19T12:51:39.254166Z",
     "shell.execute_reply.started": "2021-06-18T14:54:13.809247Z"
    },
    "papermill": {
     "duration": 0.046866,
     "end_time": "2021-06-19T12:51:39.254333",
     "exception": false,
     "start_time": "2021-06-19T12:51:39.207467",
     "status": "completed"
    },
    "tags": []
   },
   "outputs": [
    {
     "data": {
      "text/plain": [
       "count    17770\n",
       "mean      1990\n",
       "std         16\n",
       "min       1915\n",
       "25%       1985\n",
       "50%       1997\n",
       "75%       2002\n",
       "max       2005\n",
       "Name: Year, dtype: int64"
      ]
     },
     "execution_count": 10,
     "metadata": {},
     "output_type": "execute_result"
    }
   ],
   "source": [
    "df_title['Year'].describe().astype('int')"
   ]
  },
  {
   "cell_type": "code",
   "execution_count": 11,
   "id": "requested-chrome",
   "metadata": {
    "execution": {
     "iopub.execute_input": "2021-06-19T12:51:39.325670Z",
     "iopub.status.busy": "2021-06-19T12:51:39.325027Z",
     "iopub.status.idle": "2021-06-19T12:51:39.338671Z",
     "shell.execute_reply": "2021-06-19T12:51:39.339128Z",
     "shell.execute_reply.started": "2021-06-18T14:54:13.825072Z"
    },
    "papermill": {
     "duration": 0.051021,
     "end_time": "2021-06-19T12:51:39.339305",
     "exception": false,
     "start_time": "2021-06-19T12:51:39.288284",
     "status": "completed"
    },
    "tags": []
   },
   "outputs": [
    {
     "name": "stdout",
     "output_type": "stream",
     "text": [
      "Unique Values :\n",
      " Movie_ID    17770\n",
      "Year           91\n",
      "Name        17297\n",
      "dtype: int64\n"
     ]
    }
   ],
   "source": [
    "print(\"Unique Values :\\n\",df_title.nunique())"
   ]
  },
  {
   "cell_type": "markdown",
   "id": "rocky-brush",
   "metadata": {
    "papermill": {
     "duration": 0.03427,
     "end_time": "2021-06-19T12:51:39.409716",
     "exception": false,
     "start_time": "2021-06-19T12:51:39.375446",
     "status": "completed"
    },
    "tags": []
   },
   "source": [
    "# 3. Analyze Data"
   ]
  },
  {
   "cell_type": "code",
   "execution_count": 12,
   "id": "strange-focus",
   "metadata": {
    "execution": {
     "iopub.execute_input": "2021-06-19T12:51:39.486009Z",
     "iopub.status.busy": "2021-06-19T12:51:39.484885Z",
     "iopub.status.idle": "2021-06-19T12:51:40.660142Z",
     "shell.execute_reply": "2021-06-19T12:51:40.659601Z",
     "shell.execute_reply.started": "2021-06-18T14:54:13.852296Z"
    },
    "papermill": {
     "duration": 1.216009,
     "end_time": "2021-06-19T12:51:40.660280",
     "exception": false,
     "start_time": "2021-06-19T12:51:39.444271",
     "status": "completed"
    },
    "tags": []
   },
   "outputs": [
    {
     "data": {
      "text/plain": [
       "User_ID\n",
       "305344     1344\n",
       "387418     1339\n",
       "2439493    1324\n",
       "2118461    1305\n",
       "1664010    1257\n",
       "Name: Rating, dtype: int64"
      ]
     },
     "execution_count": 12,
     "metadata": {},
     "output_type": "execute_result"
    }
   ],
   "source": [
    "no_of_rated_products_per_users = df.groupby(by='User_ID')['Rating'].count().sort_values(ascending=False)\n",
    "no_of_rated_products_per_users.head()"
   ]
  },
  {
   "cell_type": "code",
   "execution_count": 13,
   "id": "tested-lebanon",
   "metadata": {
    "execution": {
     "iopub.execute_input": "2021-06-19T12:51:40.734838Z",
     "iopub.status.busy": "2021-06-19T12:51:40.734196Z",
     "iopub.status.idle": "2021-06-19T12:51:40.749815Z",
     "shell.execute_reply": "2021-06-19T12:51:40.749180Z",
     "shell.execute_reply.started": "2021-06-18T14:54:15.227082Z"
    },
    "papermill": {
     "duration": 0.054927,
     "end_time": "2021-06-19T12:51:40.749957",
     "exception": false,
     "start_time": "2021-06-19T12:51:40.695030",
     "status": "completed"
    },
    "tags": []
   },
   "outputs": [
    {
     "data": {
      "text/plain": [
       "count    143458.000000\n",
       "mean        120.853895\n",
       "std          79.783702\n",
       "min           5.000000\n",
       "25%          67.000000\n",
       "50%          95.000000\n",
       "75%         147.000000\n",
       "max        1344.000000\n",
       "Name: Rating, dtype: float64"
      ]
     },
     "execution_count": 13,
     "metadata": {},
     "output_type": "execute_result"
    }
   ],
   "source": [
    "no_of_rated_products_per_users.describe()\n"
   ]
  },
  {
   "cell_type": "code",
   "execution_count": 14,
   "id": "compliant-aluminum",
   "metadata": {
    "execution": {
     "iopub.execute_input": "2021-06-19T12:51:40.823185Z",
     "iopub.status.busy": "2021-06-19T12:51:40.822515Z",
     "iopub.status.idle": "2021-06-19T12:51:41.186733Z",
     "shell.execute_reply": "2021-06-19T12:51:41.186151Z",
     "shell.execute_reply.started": "2021-06-18T14:54:15.247378Z"
    },
    "papermill": {
     "duration": 0.401869,
     "end_time": "2021-06-19T12:51:41.186875",
     "exception": false,
     "start_time": "2021-06-19T12:51:40.785006",
     "status": "completed"
    },
    "tags": []
   },
   "outputs": [
    {
     "data": {
      "image/png": "[encoded data removed]",
      "text/plain": [
       "<Figure size 720x720 with 1 Axes>"
      ]
     },
     "metadata": {
      "needs_background": "light"
     },
     "output_type": "display_data"
    }
   ],
   "source": [
    "quantiles = no_of_rated_products_per_users.quantile(np.arange(0,1.01,0.01), interpolation='higher')\n",
    "\n",
    "plt.figure(figsize=(10,10))\n",
    "plt.title(\"Quantiles and their Values\")\n",
    "quantiles.plot()\n",
    "plt.scatter(x=quantiles.index[::5], y=quantiles.values[::5], c='orange', label=\"quantiles with 0.05 intervals\")\n",
    "plt.scatter(x=quantiles.index[::25], y=quantiles.values[::25], c='m', label = \"quantiles with 0.25 intervals\")\n",
    "plt.ylabel('No of ratings given by user')\n",
    "plt.xlabel('Value at the quantile')\n",
    "plt.legend(loc='best')\n",
    "plt.show()"
   ]
  },
  {
   "cell_type": "code",
   "execution_count": 15,
   "id": "pleasant-thursday",
   "metadata": {
    "execution": {
     "iopub.execute_input": "2021-06-19T12:51:41.266922Z",
     "iopub.status.busy": "2021-06-19T12:51:41.266192Z",
     "iopub.status.idle": "2021-06-19T12:51:41.633368Z",
     "shell.execute_reply": "2021-06-19T12:51:41.633887Z",
     "shell.execute_reply.started": "2021-06-18T14:54:15.618505Z"
    },
    "papermill": {
     "duration": 0.409819,
     "end_time": "2021-06-19T12:51:41.634058",
     "exception": false,
     "start_time": "2021-06-19T12:51:41.224239",
     "status": "completed"
    },
    "tags": []
   },
   "outputs": [
    {
     "data": {
      "text/plain": [
       "Movie_ID\n",
       "1905    117075\n",
       "2452    102721\n",
       "4306    102376\n",
       "571     101450\n",
       "3860     98545\n",
       "Name: Rating, dtype: int64"
      ]
     },
     "execution_count": 15,
     "metadata": {},
     "output_type": "execute_result"
    }
   ],
   "source": [
    "no_of_rated_products_per_movies = df.groupby(by='Movie_ID')['Rating'].count().sort_values(ascending=False)\n",
    "no_of_rated_products_per_movies.head()"
   ]
  },
  {
   "cell_type": "code",
   "execution_count": 16,
   "id": "eleven-occasions",
   "metadata": {
    "execution": {
     "iopub.execute_input": "2021-06-19T12:51:41.713532Z",
     "iopub.status.busy": "2021-06-19T12:51:41.712817Z",
     "iopub.status.idle": "2021-06-19T12:51:41.718698Z",
     "shell.execute_reply": "2021-06-19T12:51:41.719215Z",
     "shell.execute_reply.started": "2021-06-18T14:54:16.043599Z"
    },
    "papermill": {
     "duration": 0.048745,
     "end_time": "2021-06-19T12:51:41.719381",
     "exception": false,
     "start_time": "2021-06-19T12:51:41.670636",
     "status": "completed"
    },
    "tags": []
   },
   "outputs": [
    {
     "data": {
      "text/plain": [
       "count      1350.000000\n",
       "mean      12842.561481\n",
       "std       17805.334719\n",
       "min        1042.000000\n",
       "25%        2607.750000\n",
       "50%        5229.000000\n",
       "75%       14792.000000\n",
       "max      117075.000000\n",
       "Name: Rating, dtype: float64"
      ]
     },
     "execution_count": 16,
     "metadata": {},
     "output_type": "execute_result"
    }
   ],
   "source": [
    "no_of_rated_products_per_movies.describe()"
   ]
  },
  {
   "cell_type": "code",
   "execution_count": 17,
   "id": "popular-regression",
   "metadata": {
    "execution": {
     "iopub.execute_input": "2021-06-19T12:51:41.797397Z",
     "iopub.status.busy": "2021-06-19T12:51:41.796748Z",
     "iopub.status.idle": "2021-06-19T12:51:42.072593Z",
     "shell.execute_reply": "2021-06-19T12:51:42.073106Z",
     "shell.execute_reply.started": "2021-06-18T14:54:16.057712Z"
    },
    "papermill": {
     "duration": 0.31679,
     "end_time": "2021-06-19T12:51:42.073285",
     "exception": false,
     "start_time": "2021-06-19T12:51:41.756495",
     "status": "completed"
    },
    "tags": []
   },
   "outputs": [
    {
     "data": {
      "image/png": "[encoded data removed]",
      "text/plain": [
       "<Figure size 720x720 with 1 Axes>"
      ]
     },
     "metadata": {
      "needs_background": "light"
     },
     "output_type": "display_data"
    }
   ],
   "source": [
    "quantiles = no_of_rated_products_per_movies.quantile(np.arange(0,1.01,0.01), interpolation='higher')\n",
    "\n",
    "plt.figure(figsize=(10,10))\n",
    "plt.title(\"Quantiles and their Values\")\n",
    "quantiles.plot()\n",
    "plt.scatter(x=quantiles.index[::5], y=quantiles.values[::5], c='orange', label=\"quantiles with 0.05 intervals\")\n",
    "plt.scatter(x=quantiles.index[::25], y=quantiles.values[::25], c='m', label = \"quantiles with 0.25 intervals\")\n",
    "plt.ylabel('No of ratings given to movies')\n",
    "plt.xlabel('Value at the quantile')\n",
    "plt.legend(loc='best')\n",
    "plt.show()"
   ]
  },
  {
   "cell_type": "code",
   "execution_count": 18,
   "id": "located-buyer",
   "metadata": {
    "execution": {
     "iopub.execute_input": "2021-06-19T12:51:42.153858Z",
     "iopub.status.busy": "2021-06-19T12:51:42.153223Z",
     "iopub.status.idle": "2021-06-19T12:51:42.693153Z",
     "shell.execute_reply": "2021-06-19T12:51:42.693707Z",
     "shell.execute_reply.started": "2021-06-18T16:02:45.492370Z"
    },
    "papermill": {
     "duration": 0.581354,
     "end_time": "2021-06-19T12:51:42.693882",
     "exception": false,
     "start_time": "2021-06-19T12:51:42.112528",
     "status": "completed"
    },
    "tags": []
   },
   "outputs": [],
   "source": [
    "f = ['count','mean']\n",
    "df_movie_summary = df.groupby('Movie_ID')['Rating'].agg(f)\n",
    "df_movie_summary.index = df_movie_summary.index.map(int)\n",
    "movie_benchmark = round(df_movie_summary['count'].quantile(0.7),0)\n",
    "drop_movie_list = df_movie_summary[df_movie_summary['count'] < movie_benchmark].index\n",
    "\n",
    "df__title = df_title.set_index('Movie_ID')"
   ]
  },
  {
   "cell_type": "code",
   "execution_count": 19,
   "id": "compressed-spirituality",
   "metadata": {
    "execution": {
     "iopub.execute_input": "2021-06-19T12:51:42.773868Z",
     "iopub.status.busy": "2021-06-19T12:51:42.773238Z",
     "iopub.status.idle": "2021-06-19T12:51:44.066488Z",
     "shell.execute_reply": "2021-06-19T12:51:44.066991Z",
     "shell.execute_reply.started": "2021-06-18T14:54:16.948344Z"
    },
    "papermill": {
     "duration": 1.335192,
     "end_time": "2021-06-19T12:51:44.067158",
     "exception": false,
     "start_time": "2021-06-19T12:51:42.731966",
     "status": "completed"
    },
    "tags": []
   },
   "outputs": [
    {
     "data": {
      "text/html": [
       "        <script type=\"text/javascript\">\n",
       "        window.PlotlyConfig = {MathJaxConfig: 'local'};\n",
       "        if (window.MathJax) {MathJax.Hub.Config({SVG: {font: \"STIX-Web\"}});}\n",
       "        if (typeof require !== 'undefined') {\n",
       "        require.undef(\"plotly\");\n",
       "        requirejs.config({\n",
       "            paths: {\n",
       "                'plotly': ['https://cdn.plot.ly/plotly-latest.min']\n",
       "            }\n",
       "        });\n",
       "        require(['plotly'], function(Plotly) {\n",
       "            window._Plotly = Plotly;\n",
       "        });\n",
       "        }\n",
       "        </script>\n",
       "        "
      ]
     },
     "metadata": {},
     "output_type": "display_data"
    },
    {
     "data": {
      "text/html": [
       "<div>                            <div id=\"1f783ac2-4bee-472b-95a8-b427059e48bc\" class=\"plotly-graph-div\" style=\"height:525px; width:100%;\"></div>            <script type=\"text/javascript\">                require([\"plotly\"], function(Plotly) {                    window.PLOTLYENV=window.PLOTLYENV || {};                                    if (document.getElementById(\"1f783ac2-4bee-472b-95a8-b427059e48bc\")) {                    Plotly.newPlot(                        \"1f783ac2-4bee-472b-95a8-b427059e48bc\",                        [{\"text\": [\"34.0 %\", \"29.9 %\", \"21.7 %\", \"10.1 %\", \"4.2 %\"], \"textposition\": \"auto\", \"type\": \"bar\", \"x\": [4, 3, 5, 2, 1], \"y\": [5901368, 5185650, 3769803, 1759281, 721356]}],                        {\"template\": {\"data\": {\"bar\": [{\"error_x\": {\"color\": \"#2a3f5f\"}, \"error_y\": {\"color\": \"#2a3f5f\"}, \"marker\": {\"line\": {\"color\": \"#E5ECF6\", \"width\": 0.5}}, \"type\": \"bar\"}], \"barpolar\": [{\"marker\": {\"line\": {\"color\": \"#E5ECF6\", \"width\": 0.5}}, \"type\": \"barpolar\"}], \"carpet\": [{\"aaxis\": {\"endlinecolor\": \"#2a3f5f\", \"gridcolor\": \"white\", \"linecolor\": \"white\", \"minorgridcolor\": \"white\", \"startlinecolor\": \"#2a3f5f\"}, \"baxis\": {\"endlinecolor\": \"#2a3f5f\", \"gridcolor\": \"white\", \"linecolor\": \"white\", \"minorgridcolor\": \"white\", \"startlinecolor\": \"#2a3f5f\"}, \"type\": \"carpet\"}], \"choropleth\": [{\"colorbar\": {\"outlinewidth\": 0, \"ticks\": \"\"}, \"type\": \"choropleth\"}], \"contour\": [{\"colorbar\": {\"outlinewidth\": 0, \"ticks\": \"\"}, \"colorscale\": [[0.0, \"#0d0887\"], [0.1111111111111111, \"#46039f\"], [0.2222222222222222, \"#7201a8\"], [0.3333333333333333, \"#9c179e\"], [0.4444444444444444, \"#bd3786\"], [0.5555555555555556, \"#d8576b\"], [0.6666666666666666, \"#ed7953\"], [0.7777777777777778, \"#fb9f3a\"], [0.8888888888888888, \"#fdca26\"], [1.0, \"#f0f921\"]], \"type\": \"contour\"}], \"contourcarpet\": [{\"colorbar\": {\"outlinewidth\": 0, \"ticks\": \"\"}, \"type\": \"contourcarpet\"}], \"heatmap\": [{\"colorbar\": {\"outlinewidth\": 0, \"ticks\": \"\"}, \"colorscale\": [[0.0, \"#0d0887\"], [0.1111111111111111, \"#46039f\"], [0.2222222222222222, \"#7201a8\"], [0.3333333333333333, \"#9c179e\"], [0.4444444444444444, \"#bd3786\"], [0.5555555555555556, \"#d8576b\"], [0.6666666666666666, \"#ed7953\"], [0.7777777777777778, \"#fb9f3a\"], [0.8888888888888888, \"#fdca26\"], [1.0, \"#f0f921\"]], \"type\": \"heatmap\"}], \"heatmapgl\": [{\"colorbar\": {\"outlinewidth\": 0, \"ticks\": \"\"}, \"colorscale\": [[0.0, \"#0d0887\"], [0.1111111111111111, \"#46039f\"], [0.2222222222222222, \"#7201a8\"], [0.3333333333333333, \"#9c179e\"], [0.4444444444444444, \"#bd3786\"], [0.5555555555555556, \"#d8576b\"], [0.6666666666666666, \"#ed7953\"], [0.7777777777777778, \"#fb9f3a\"], [0.8888888888888888, \"#fdca26\"], [1.0, \"#f0f921\"]], \"type\": \"heatmapgl\"}], \"histogram\": [{\"marker\": {\"colorbar\": {\"outlinewidth\": 0, \"ticks\": \"\"}}, \"type\": \"histogram\"}], \"histogram2d\": [{\"colorbar\": {\"outlinewidth\": 0, \"ticks\": \"\"}, \"colorscale\": [[0.0, \"#0d0887\"], [0.1111111111111111, \"#46039f\"], [0.2222222222222222, \"#7201a8\"], [0.3333333333333333, \"#9c179e\"], [0.4444444444444444, \"#bd3786\"], [0.5555555555555556, \"#d8576b\"], [0.6666666666666666, \"#ed7953\"], [0.7777777777777778, \"#fb9f3a\"], [0.8888888888888888, \"#fdca26\"], [1.0, \"#f0f921\"]], \"type\": \"histogram2d\"}], \"histogram2dcontour\": [{\"colorbar\": {\"outlinewidth\": 0, \"ticks\": \"\"}, \"colorscale\": [[0.0, \"#0d0887\"], [0.1111111111111111, \"#46039f\"], [0.2222222222222222, \"#7201a8\"], [0.3333333333333333, \"#9c179e\"], [0.4444444444444444, \"#bd3786\"], [0.5555555555555556, \"#d8576b\"], [0.6666666666666666, \"#ed7953\"], [0.7777777777777778, \"#fb9f3a\"], [0.8888888888888888, \"#fdca26\"], [1.0, \"#f0f921\"]], \"type\": \"histogram2dcontour\"}], \"mesh3d\": [{\"colorbar\": {\"outlinewidth\": 0, \"ticks\": \"\"}, \"type\": \"mesh3d\"}], \"parcoords\": [{\"line\": {\"colorbar\": {\"outlinewidth\": 0, \"ticks\": \"\"}}, \"type\": \"parcoords\"}], \"pie\": [{\"automargin\": true, \"type\": \"pie\"}], \"scatter\": [{\"marker\": {\"colorbar\": {\"outlinewidth\": 0, \"ticks\": \"\"}}, \"type\": \"scatter\"}], \"scatter3d\": [{\"line\": {\"colorbar\": {\"outlinewidth\": 0, \"ticks\": \"\"}}, \"marker\": {\"colorbar\": {\"outlinewidth\": 0, \"ticks\": \"\"}}, \"type\": \"scatter3d\"}], \"scattercarpet\": [{\"marker\": {\"colorbar\": {\"outlinewidth\": 0, \"ticks\": \"\"}}, \"type\": \"scattercarpet\"}], \"scattergeo\": [{\"marker\": {\"colorbar\": {\"outlinewidth\": 0, \"ticks\": \"\"}}, \"type\": \"scattergeo\"}], \"scattergl\": [{\"marker\": {\"colorbar\": {\"outlinewidth\": 0, \"ticks\": \"\"}}, \"type\": \"scattergl\"}], \"scattermapbox\": [{\"marker\": {\"colorbar\": {\"outlinewidth\": 0, \"ticks\": \"\"}}, \"type\": \"scattermapbox\"}], \"scatterpolar\": [{\"marker\": {\"colorbar\": {\"outlinewidth\": 0, \"ticks\": \"\"}}, \"type\": \"scatterpolar\"}], \"scatterpolargl\": [{\"marker\": {\"colorbar\": {\"outlinewidth\": 0, \"ticks\": \"\"}}, \"type\": \"scatterpolargl\"}], \"scatterternary\": [{\"marker\": {\"colorbar\": {\"outlinewidth\": 0, \"ticks\": \"\"}}, \"type\": \"scatterternary\"}], \"surface\": [{\"colorbar\": {\"outlinewidth\": 0, \"ticks\": \"\"}, \"colorscale\": [[0.0, \"#0d0887\"], [0.1111111111111111, \"#46039f\"], [0.2222222222222222, \"#7201a8\"], [0.3333333333333333, \"#9c179e\"], [0.4444444444444444, \"#bd3786\"], [0.5555555555555556, \"#d8576b\"], [0.6666666666666666, \"#ed7953\"], [0.7777777777777778, \"#fb9f3a\"], [0.8888888888888888, \"#fdca26\"], [1.0, \"#f0f921\"]], \"type\": \"surface\"}], \"table\": [{\"cells\": {\"fill\": {\"color\": \"#EBF0F8\"}, \"line\": {\"color\": \"white\"}}, \"header\": {\"fill\": {\"color\": \"#C8D4E3\"}, \"line\": {\"color\": \"white\"}}, \"type\": \"table\"}]}, \"layout\": {\"annotationdefaults\": {\"arrowcolor\": \"#2a3f5f\", \"arrowhead\": 0, \"arrowwidth\": 1}, \"autotypenumbers\": \"strict\", \"coloraxis\": {\"colorbar\": {\"outlinewidth\": 0, \"ticks\": \"\"}}, \"colorscale\": {\"diverging\": [[0, \"#8e0152\"], [0.1, \"#c51b7d\"], [0.2, \"#de77ae\"], [0.3, \"#f1b6da\"], [0.4, \"#fde0ef\"], [0.5, \"#f7f7f7\"], [0.6, \"#e6f5d0\"], [0.7, \"#b8e186\"], [0.8, \"#7fbc41\"], [0.9, \"#4d9221\"], [1, \"#276419\"]], \"sequential\": [[0.0, \"#0d0887\"], [0.1111111111111111, \"#46039f\"], [0.2222222222222222, \"#7201a8\"], [0.3333333333333333, \"#9c179e\"], [0.4444444444444444, \"#bd3786\"], [0.5555555555555556, \"#d8576b\"], [0.6666666666666666, \"#ed7953\"], [0.7777777777777778, \"#fb9f3a\"], [0.8888888888888888, \"#fdca26\"], [1.0, \"#f0f921\"]], \"sequentialminus\": [[0.0, \"#0d0887\"], [0.1111111111111111, \"#46039f\"], [0.2222222222222222, \"#7201a8\"], [0.3333333333333333, \"#9c179e\"], [0.4444444444444444, \"#bd3786\"], [0.5555555555555556, \"#d8576b\"], [0.6666666666666666, \"#ed7953\"], [0.7777777777777778, \"#fb9f3a\"], [0.8888888888888888, \"#fdca26\"], [1.0, \"#f0f921\"]]}, \"colorway\": [\"#636efa\", \"#EF553B\", \"#00cc96\", \"#ab63fa\", \"#FFA15A\", \"#19d3f3\", \"#FF6692\", \"#B6E880\", \"#FF97FF\", \"#FECB52\"], \"font\": {\"color\": \"#2a3f5f\"}, \"geo\": {\"bgcolor\": \"white\", \"lakecolor\": \"white\", \"landcolor\": \"#E5ECF6\", \"showlakes\": true, \"showland\": true, \"subunitcolor\": \"white\"}, \"hoverlabel\": {\"align\": \"left\"}, \"hovermode\": \"closest\", \"mapbox\": {\"style\": \"light\"}, \"paper_bgcolor\": \"white\", \"plot_bgcolor\": \"#E5ECF6\", \"polar\": {\"angularaxis\": {\"gridcolor\": \"white\", \"linecolor\": \"white\", \"ticks\": \"\"}, \"bgcolor\": \"#E5ECF6\", \"radialaxis\": {\"gridcolor\": \"white\", \"linecolor\": \"white\", \"ticks\": \"\"}}, \"scene\": {\"xaxis\": {\"backgroundcolor\": \"#E5ECF6\", \"gridcolor\": \"white\", \"gridwidth\": 2, \"linecolor\": \"white\", \"showbackground\": true, \"ticks\": \"\", \"zerolinecolor\": \"white\"}, \"yaxis\": {\"backgroundcolor\": \"#E5ECF6\", \"gridcolor\": \"white\", \"gridwidth\": 2, \"linecolor\": \"white\", \"showbackground\": true, \"ticks\": \"\", \"zerolinecolor\": \"white\"}, \"zaxis\": {\"backgroundcolor\": \"#E5ECF6\", \"gridcolor\": \"white\", \"gridwidth\": 2, \"linecolor\": \"white\", \"showbackground\": true, \"ticks\": \"\", \"zerolinecolor\": \"white\"}}, \"shapedefaults\": {\"line\": {\"color\": \"#2a3f5f\"}}, \"ternary\": {\"aaxis\": {\"gridcolor\": \"white\", \"linecolor\": \"white\", \"ticks\": \"\"}, \"baxis\": {\"gridcolor\": \"white\", \"linecolor\": \"white\", \"ticks\": \"\"}, \"bgcolor\": \"#E5ECF6\", \"caxis\": {\"gridcolor\": \"white\", \"linecolor\": \"white\", \"ticks\": \"\"}}, \"title\": {\"x\": 0.05}, \"xaxis\": {\"automargin\": true, \"gridcolor\": \"white\", \"linecolor\": \"white\", \"ticks\": \"\", \"title\": {\"standoff\": 15}, \"zerolinecolor\": \"white\", \"zerolinewidth\": 2}, \"yaxis\": {\"automargin\": true, \"gridcolor\": \"white\", \"linecolor\": \"white\", \"ticks\": \"\", \"title\": {\"standoff\": 15}, \"zerolinecolor\": \"white\", \"zerolinewidth\": 2}}}, \"title\": {\"text\": \"Distribution of 17337458 Movie-ratings\"}, \"xaxis\": {\"title\": {\"text\": \"Rating\"}}, \"yaxis\": {\"title\": {\"text\": \"Movies\"}}},                        {\"responsive\": true}                    ).then(function(){\n",
       "                            \n",
       "var gd = document.getElementById('1f783ac2-4bee-472b-95a8-b427059e48bc');\n",
       "var x = new MutationObserver(function (mutations, observer) {{\n",
       "        var display = window.getComputedStyle(gd).display;\n",
       "        if (!display || display === 'none') {{\n",
       "            console.log([gd, 'removed!']);\n",
       "            Plotly.purge(gd);\n",
       "            observer.disconnect();\n",
       "        }}\n",
       "}});\n",
       "\n",
       "// Listen for the removal of the full notebook cells\n",
       "var notebookContainer = gd.closest('#notebook-container');\n",
       "if (notebookContainer) {{\n",
       "    x.observe(notebookContainer, {childList: true});\n",
       "}}\n",
       "\n",
       "// Listen for the clearing of the current output cell\n",
       "var outputEl = gd.closest('.output');\n",
       "if (outputEl) {{\n",
       "    x.observe(outputEl, {childList: true});\n",
       "}}\n",
       "\n",
       "                        })                };                });            </script>        </div>"
      ]
     },
     "metadata": {},
     "output_type": "display_data"
    }
   ],
   "source": [
    "data = df['Rating'].value_counts()\n",
    "\n",
    "trace = go.Bar(x = data.index,y = data.values,text = ['{:.1f} %'.format(val) for val in (data.values / df.shape[0] * 100)],textposition = 'auto')\n",
    "\n",
    "layout = dict(title = 'Distribution of {} Movie-ratings'.format(df.shape[0]), xaxis = dict(title = 'Rating'), yaxis = dict(title = 'Movies'))\n",
    "\n",
    "fig = go.Figure(data=[trace], layout=layout)\n",
    "\n",
    "iplot(fig)"
   ]
  },
  {
   "cell_type": "code",
   "execution_count": 20,
   "id": "transparent-audio",
   "metadata": {
    "execution": {
     "iopub.execute_input": "2021-06-19T12:51:44.148833Z",
     "iopub.status.busy": "2021-06-19T12:51:44.148204Z",
     "iopub.status.idle": "2021-06-19T12:51:44.186720Z",
     "shell.execute_reply": "2021-06-19T12:51:44.186204Z",
     "shell.execute_reply.started": "2021-06-18T14:54:18.387710Z"
    },
    "papermill": {
     "duration": 0.080345,
     "end_time": "2021-06-19T12:51:44.186864",
     "exception": false,
     "start_time": "2021-06-19T12:51:44.106519",
     "status": "completed"
    },
    "tags": []
   },
   "outputs": [
    {
     "data": {
      "text/html": [
       "<div>                            <div id=\"490f62c5-3e3d-4d57-8c8d-2448bd406f4f\" class=\"plotly-graph-div\" style=\"height:525px; width:100%;\"></div>            <script type=\"text/javascript\">                require([\"plotly\"], function(Plotly) {                    window.PLOTLYENV=window.PLOTLYENV || {};                                    if (document.getElementById(\"490f62c5-3e3d-4d57-8c8d-2448bd406f4f\")) {                    Plotly.newPlot(                        \"490f62c5-3e3d-4d57-8c8d-2448bd406f4f\",                        [{\"text\": [\"8.1 %\", \"7.4 %\", \"7.2 %\", \"6.9 %\", \"6.7 %\", \"5.4 %\", \"4.2 %\", \"3.7 %\", \"3.0 %\", \"2.9 %\", \"2.8 %\", \"2.6 %\", \"2.1 %\", \"1.9 %\", \"1.8 %\", \"1.7 %\", \"1.6 %\", \"1.6 %\", \"1.5 %\", \"1.3 %\", \"1.3 %\", \"1.1 %\", \"1.0 %\", \"0.9 %\", \"0.9 %\", \"0.9 %\", \"0.9 %\", \"0.8 %\", \"0.8 %\", \"0.8 %\", \"0.8 %\", \"0.7 %\", \"0.7 %\", \"0.7 %\", \"0.6 %\", \"0.6 %\", \"0.6 %\", \"0.6 %\", \"0.5 %\", \"0.5 %\", \"0.5 %\", \"0.5 %\", \"0.5 %\", \"0.5 %\", \"0.5 %\", \"0.4 %\", \"0.4 %\", \"0.4 %\", \"0.4 %\", \"0.3 %\", \"0.3 %\", \"0.3 %\", \"0.3 %\", \"0.3 %\", \"0.2 %\", \"0.2 %\", \"0.2 %\", \"0.2 %\", \"0.2 %\", \"0.2 %\", \"0.2 %\", \"0.2 %\", \"0.2 %\", \"0.2 %\", \"0.2 %\", \"0.2 %\", \"0.2 %\", \"0.2 %\", \"0.2 %\", \"0.1 %\", \"0.1 %\", \"0.1 %\", \"0.1 %\", \"0.1 %\", \"0.1 %\", \"0.1 %\", \"0.1 %\", \"0.1 %\", \"0.1 %\", \"0.1 %\", \"0.1 %\", \"0.1 %\", \"0.1 %\", \"0.0 %\", \"0.0 %\", \"0.0 %\", \"0.0 %\", \"0.0 %\", \"0.0 %\", \"0.0 %\", \"0.0 %\"], \"textposition\": \"auto\", \"type\": \"bar\", \"x\": [2004, 2002, 2003, 2000, 2001, 1999, 1998, 1997, 1996, 2005, 1995, 1994, 1993, 1992, 1991, 1990, 1988, 1989, 1987, 1986, 1985, 1984, 1983, 1980, 1982, 1979, 1981, 1978, 1974, 1973, 1972, 1976, 1977, 1975, 1968, 1971, 1969, 1965, 1966, 1962, 1970, 1963, 1964, 1967, 1960, 1957, 1961, 1959, 1955, 1958, 1954, 1952, 1953, 1956, 1951, 1950, 1949, 1946, 1947, 1945, 1939, 1944, 1948, 1940, 1941, 1942, 1943, 1936, 1937, 1934, 1932, 1938, 1935, 1915, 1933, 1930, 1931, 1927, 1925, 1929, 1928, 1926, 1921, 1919, 1920, 1922, 1916, 1924, 1917, 1918, 1923], \"y\": [1436, 1310, 1271, 1234, 1184, 965, 743, 653, 533, 512, 490, 459, 376, 342, 316, 296, 283, 276, 267, 228, 226, 189, 182, 166, 165, 158, 154, 148, 144, 140, 135, 129, 125, 125, 113, 110, 106, 101, 96, 96, 95, 95, 95, 91, 87, 78, 72, 72, 64, 61, 59, 50, 47, 47, 42, 41, 41, 39, 37, 37, 37, 36, 36, 34, 33, 33, 33, 29, 27, 26, 22, 21, 16, 16, 15, 13, 13, 13, 12, 10, 10, 9, 9, 8, 6, 6, 4, 4, 3, 2, 2]}],                        {\"template\": {\"data\": {\"bar\": [{\"error_x\": {\"color\": \"#2a3f5f\"}, \"error_y\": {\"color\": \"#2a3f5f\"}, \"marker\": {\"line\": {\"color\": \"#E5ECF6\", \"width\": 0.5}}, \"type\": \"bar\"}], \"barpolar\": [{\"marker\": {\"line\": {\"color\": \"#E5ECF6\", \"width\": 0.5}}, \"type\": \"barpolar\"}], \"carpet\": [{\"aaxis\": {\"endlinecolor\": \"#2a3f5f\", \"gridcolor\": \"white\", \"linecolor\": \"white\", \"minorgridcolor\": \"white\", \"startlinecolor\": \"#2a3f5f\"}, \"baxis\": {\"endlinecolor\": \"#2a3f5f\", \"gridcolor\": \"white\", \"linecolor\": \"white\", \"minorgridcolor\": \"white\", \"startlinecolor\": \"#2a3f5f\"}, \"type\": \"carpet\"}], \"choropleth\": [{\"colorbar\": {\"outlinewidth\": 0, \"ticks\": \"\"}, \"type\": \"choropleth\"}], \"contour\": [{\"colorbar\": {\"outlinewidth\": 0, \"ticks\": \"\"}, \"colorscale\": [[0.0, \"#0d0887\"], [0.1111111111111111, \"#46039f\"], [0.2222222222222222, \"#7201a8\"], [0.3333333333333333, \"#9c179e\"], [0.4444444444444444, \"#bd3786\"], [0.5555555555555556, \"#d8576b\"], [0.6666666666666666, \"#ed7953\"], [0.7777777777777778, \"#fb9f3a\"], [0.8888888888888888, \"#fdca26\"], [1.0, \"#f0f921\"]], \"type\": \"contour\"}], \"contourcarpet\": [{\"colorbar\": {\"outlinewidth\": 0, \"ticks\": \"\"}, \"type\": \"contourcarpet\"}], \"heatmap\": [{\"colorbar\": {\"outlinewidth\": 0, \"ticks\": \"\"}, \"colorscale\": [[0.0, \"#0d0887\"], [0.1111111111111111, \"#46039f\"], [0.2222222222222222, \"#7201a8\"], [0.3333333333333333, \"#9c179e\"], [0.4444444444444444, \"#bd3786\"], [0.5555555555555556, \"#d8576b\"], [0.6666666666666666, \"#ed7953\"], [0.7777777777777778, \"#fb9f3a\"], [0.8888888888888888, \"#fdca26\"], [1.0, \"#f0f921\"]], \"type\": \"heatmap\"}], \"heatmapgl\": [{\"colorbar\": {\"outlinewidth\": 0, \"ticks\": \"\"}, \"colorscale\": [[0.0, \"#0d0887\"], [0.1111111111111111, \"#46039f\"], [0.2222222222222222, \"#7201a8\"], [0.3333333333333333, \"#9c179e\"], [0.4444444444444444, \"#bd3786\"], [0.5555555555555556, \"#d8576b\"], [0.6666666666666666, \"#ed7953\"], [0.7777777777777778, \"#fb9f3a\"], [0.8888888888888888, \"#fdca26\"], [1.0, \"#f0f921\"]], \"type\": \"heatmapgl\"}], \"histogram\": [{\"marker\": {\"colorbar\": {\"outlinewidth\": 0, \"ticks\": \"\"}}, \"type\": \"histogram\"}], \"histogram2d\": [{\"colorbar\": {\"outlinewidth\": 0, \"ticks\": \"\"}, \"colorscale\": [[0.0, \"#0d0887\"], [0.1111111111111111, \"#46039f\"], [0.2222222222222222, \"#7201a8\"], [0.3333333333333333, \"#9c179e\"], [0.4444444444444444, \"#bd3786\"], [0.5555555555555556, \"#d8576b\"], [0.6666666666666666, \"#ed7953\"], [0.7777777777777778, \"#fb9f3a\"], [0.8888888888888888, \"#fdca26\"], [1.0, \"#f0f921\"]], \"type\": \"histogram2d\"}], \"histogram2dcontour\": [{\"colorbar\": {\"outlinewidth\": 0, \"ticks\": \"\"}, \"colorscale\": [[0.0, \"#0d0887\"], [0.1111111111111111, \"#46039f\"], [0.2222222222222222, \"#7201a8\"], [0.3333333333333333, \"#9c179e\"], [0.4444444444444444, \"#bd3786\"], [0.5555555555555556, \"#d8576b\"], [0.6666666666666666, \"#ed7953\"], [0.7777777777777778, \"#fb9f3a\"], [0.8888888888888888, \"#fdca26\"], [1.0, \"#f0f921\"]], \"type\": \"histogram2dcontour\"}], \"mesh3d\": [{\"colorbar\": {\"outlinewidth\": 0, \"ticks\": \"\"}, \"type\": \"mesh3d\"}], \"parcoords\": [{\"line\": {\"colorbar\": {\"outlinewidth\": 0, \"ticks\": \"\"}}, \"type\": \"parcoords\"}], \"pie\": [{\"automargin\": true, \"type\": \"pie\"}], \"scatter\": [{\"marker\": {\"colorbar\": {\"outlinewidth\": 0, \"ticks\": \"\"}}, \"type\": \"scatter\"}], \"scatter3d\": [{\"line\": {\"colorbar\": {\"outlinewidth\": 0, \"ticks\": \"\"}}, \"marker\": {\"colorbar\": {\"outlinewidth\": 0, \"ticks\": \"\"}}, \"type\": \"scatter3d\"}], \"scattercarpet\": [{\"marker\": {\"colorbar\": {\"outlinewidth\": 0, \"ticks\": \"\"}}, \"type\": \"scattercarpet\"}], \"scattergeo\": [{\"marker\": {\"colorbar\": {\"outlinewidth\": 0, \"ticks\": \"\"}}, \"type\": \"scattergeo\"}], \"scattergl\": [{\"marker\": {\"colorbar\": {\"outlinewidth\": 0, \"ticks\": \"\"}}, \"type\": \"scattergl\"}], \"scattermapbox\": [{\"marker\": {\"colorbar\": {\"outlinewidth\": 0, \"ticks\": \"\"}}, \"type\": \"scattermapbox\"}], \"scatterpolar\": [{\"marker\": {\"colorbar\": {\"outlinewidth\": 0, \"ticks\": \"\"}}, \"type\": \"scatterpolar\"}], \"scatterpolargl\": [{\"marker\": {\"colorbar\": {\"outlinewidth\": 0, \"ticks\": \"\"}}, \"type\": \"scatterpolargl\"}], \"scatterternary\": [{\"marker\": {\"colorbar\": {\"outlinewidth\": 0, \"ticks\": \"\"}}, \"type\": \"scatterternary\"}], \"surface\": [{\"colorbar\": {\"outlinewidth\": 0, \"ticks\": \"\"}, \"colorscale\": [[0.0, \"#0d0887\"], [0.1111111111111111, \"#46039f\"], [0.2222222222222222, \"#7201a8\"], [0.3333333333333333, \"#9c179e\"], [0.4444444444444444, \"#bd3786\"], [0.5555555555555556, \"#d8576b\"], [0.6666666666666666, \"#ed7953\"], [0.7777777777777778, \"#fb9f3a\"], [0.8888888888888888, \"#fdca26\"], [1.0, \"#f0f921\"]], \"type\": \"surface\"}], \"table\": [{\"cells\": {\"fill\": {\"color\": \"#EBF0F8\"}, \"line\": {\"color\": \"white\"}}, \"header\": {\"fill\": {\"color\": \"#C8D4E3\"}, \"line\": {\"color\": \"white\"}}, \"type\": \"table\"}]}, \"layout\": {\"annotationdefaults\": {\"arrowcolor\": \"#2a3f5f\", \"arrowhead\": 0, \"arrowwidth\": 1}, \"autotypenumbers\": \"strict\", \"coloraxis\": {\"colorbar\": {\"outlinewidth\": 0, \"ticks\": \"\"}}, \"colorscale\": {\"diverging\": [[0, \"#8e0152\"], [0.1, \"#c51b7d\"], [0.2, \"#de77ae\"], [0.3, \"#f1b6da\"], [0.4, \"#fde0ef\"], [0.5, \"#f7f7f7\"], [0.6, \"#e6f5d0\"], [0.7, \"#b8e186\"], [0.8, \"#7fbc41\"], [0.9, \"#4d9221\"], [1, \"#276419\"]], \"sequential\": [[0.0, \"#0d0887\"], [0.1111111111111111, \"#46039f\"], [0.2222222222222222, \"#7201a8\"], [0.3333333333333333, \"#9c179e\"], [0.4444444444444444, \"#bd3786\"], [0.5555555555555556, \"#d8576b\"], [0.6666666666666666, \"#ed7953\"], [0.7777777777777778, \"#fb9f3a\"], [0.8888888888888888, \"#fdca26\"], [1.0, \"#f0f921\"]], \"sequentialminus\": [[0.0, \"#0d0887\"], [0.1111111111111111, \"#46039f\"], [0.2222222222222222, \"#7201a8\"], [0.3333333333333333, \"#9c179e\"], [0.4444444444444444, \"#bd3786\"], [0.5555555555555556, \"#d8576b\"], [0.6666666666666666, \"#ed7953\"], [0.7777777777777778, \"#fb9f3a\"], [0.8888888888888888, \"#fdca26\"], [1.0, \"#f0f921\"]]}, \"colorway\": [\"#636efa\", \"#EF553B\", \"#00cc96\", \"#ab63fa\", \"#FFA15A\", \"#19d3f3\", \"#FF6692\", \"#B6E880\", \"#FF97FF\", \"#FECB52\"], \"font\": {\"color\": \"#2a3f5f\"}, \"geo\": {\"bgcolor\": \"white\", \"lakecolor\": \"white\", \"landcolor\": \"#E5ECF6\", \"showlakes\": true, \"showland\": true, \"subunitcolor\": \"white\"}, \"hoverlabel\": {\"align\": \"left\"}, \"hovermode\": \"closest\", \"mapbox\": {\"style\": \"light\"}, \"paper_bgcolor\": \"white\", \"plot_bgcolor\": \"#E5ECF6\", \"polar\": {\"angularaxis\": {\"gridcolor\": \"white\", \"linecolor\": \"white\", \"ticks\": \"\"}, \"bgcolor\": \"#E5ECF6\", \"radialaxis\": {\"gridcolor\": \"white\", \"linecolor\": \"white\", \"ticks\": \"\"}}, \"scene\": {\"xaxis\": {\"backgroundcolor\": \"#E5ECF6\", \"gridcolor\": \"white\", \"gridwidth\": 2, \"linecolor\": \"white\", \"showbackground\": true, \"ticks\": \"\", \"zerolinecolor\": \"white\"}, \"yaxis\": {\"backgroundcolor\": \"#E5ECF6\", \"gridcolor\": \"white\", \"gridwidth\": 2, \"linecolor\": \"white\", \"showbackground\": true, \"ticks\": \"\", \"zerolinecolor\": \"white\"}, \"zaxis\": {\"backgroundcolor\": \"#E5ECF6\", \"gridcolor\": \"white\", \"gridwidth\": 2, \"linecolor\": \"white\", \"showbackground\": true, \"ticks\": \"\", \"zerolinecolor\": \"white\"}}, \"shapedefaults\": {\"line\": {\"color\": \"#2a3f5f\"}}, \"ternary\": {\"aaxis\": {\"gridcolor\": \"white\", \"linecolor\": \"white\", \"ticks\": \"\"}, \"baxis\": {\"gridcolor\": \"white\", \"linecolor\": \"white\", \"ticks\": \"\"}, \"bgcolor\": \"#E5ECF6\", \"caxis\": {\"gridcolor\": \"white\", \"linecolor\": \"white\", \"ticks\": \"\"}}, \"title\": {\"x\": 0.05}, \"xaxis\": {\"automargin\": true, \"gridcolor\": \"white\", \"linecolor\": \"white\", \"ticks\": \"\", \"title\": {\"standoff\": 15}, \"zerolinecolor\": \"white\", \"zerolinewidth\": 2}, \"yaxis\": {\"automargin\": true, \"gridcolor\": \"white\", \"linecolor\": \"white\", \"ticks\": \"\", \"title\": {\"standoff\": 15}, \"zerolinecolor\": \"white\", \"zerolinewidth\": 2}}}, \"title\": {\"text\": \"Distribution of 17337458 Movie - Year-wise\"}, \"xaxis\": {\"title\": {\"text\": \"Year\"}}, \"yaxis\": {\"title\": {\"text\": \"Movies\"}}},                        {\"responsive\": true}                    ).then(function(){\n",
       "                            \n",
       "var gd = document.getElementById('490f62c5-3e3d-4d57-8c8d-2448bd406f4f');\n",
       "var x = new MutationObserver(function (mutations, observer) {{\n",
       "        var display = window.getComputedStyle(gd).display;\n",
       "        if (!display || display === 'none') {{\n",
       "            console.log([gd, 'removed!']);\n",
       "            Plotly.purge(gd);\n",
       "            observer.disconnect();\n",
       "        }}\n",
       "}});\n",
       "\n",
       "// Listen for the removal of the full notebook cells\n",
       "var notebookContainer = gd.closest('#notebook-container');\n",
       "if (notebookContainer) {{\n",
       "    x.observe(notebookContainer, {childList: true});\n",
       "}}\n",
       "\n",
       "// Listen for the clearing of the current output cell\n",
       "var outputEl = gd.closest('.output');\n",
       "if (outputEl) {{\n",
       "    x.observe(outputEl, {childList: true});\n",
       "}}\n",
       "\n",
       "                        })                };                });            </script>        </div>"
      ]
     },
     "metadata": {},
     "output_type": "display_data"
    }
   ],
   "source": [
    "data = df_title['Year'].value_counts()\n",
    "\n",
    "trace = go.Bar(x = data.index,y = data.values,text = ['{:.1f} %'.format(val) for val in (data.values / df_title.shape[0] * 100)],textposition = 'auto')\n",
    "\n",
    "layout = dict(title = 'Distribution of {} Movie - Year-wise'.format(df.shape[0]), xaxis = dict(title = 'Year'), yaxis = dict(title = 'Movies'))\n",
    "\n",
    "fig = go.Figure(data=[trace], layout=layout)\n",
    "\n",
    "iplot(fig)"
   ]
  },
  {
   "cell_type": "code",
   "execution_count": 21,
   "id": "focal-milan",
   "metadata": {
    "execution": {
     "iopub.execute_input": "2021-06-19T12:51:44.276653Z",
     "iopub.status.busy": "2021-06-19T12:51:44.275941Z",
     "iopub.status.idle": "2021-06-19T12:51:45.269244Z",
     "shell.execute_reply": "2021-06-19T12:51:45.268702Z",
     "shell.execute_reply.started": "2021-06-18T14:54:18.436977Z"
    },
    "papermill": {
     "duration": 1.042489,
     "end_time": "2021-06-19T12:51:45.269396",
     "exception": false,
     "start_time": "2021-06-19T12:51:44.226907",
     "status": "completed"
    },
    "tags": []
   },
   "outputs": [
    {
     "data": {
      "text/html": [
       "<div>                            <div id=\"24296eac-3ff5-4e6b-84b5-32a2da967aef\" class=\"plotly-graph-div\" style=\"height:525px; width:100%;\"></div>            <script type=\"text/javascript\">                require([\"plotly\"], function(Plotly) {                    window.PLOTLYENV=window.PLOTLYENV || {};                                    if (document.getElementById(\"24296eac-3ff5-4e6b-84b5-32a2da967aef\")) {                    Plotly.newPlot(                        \"24296eac-3ff5-4e6b-84b5-32a2da967aef\",                        [{\"text\": [\"33.6 %\", \"28.3 %\", \"23.2 %\", \"10.2 %\", \"4.6 %\"], \"textposition\": \"auto\", \"type\": \"bar\", \"x\": [4, 3, 5, 2, 1], \"y\": [629625, 529519, 435350, 191866, 86443]}],                        {\"template\": {\"data\": {\"bar\": [{\"error_x\": {\"color\": \"#2a3f5f\"}, \"error_y\": {\"color\": \"#2a3f5f\"}, \"marker\": {\"line\": {\"color\": \"#E5ECF6\", \"width\": 0.5}}, \"type\": \"bar\"}], \"barpolar\": [{\"marker\": {\"line\": {\"color\": \"#E5ECF6\", \"width\": 0.5}}, \"type\": \"barpolar\"}], \"carpet\": [{\"aaxis\": {\"endlinecolor\": \"#2a3f5f\", \"gridcolor\": \"white\", \"linecolor\": \"white\", \"minorgridcolor\": \"white\", \"startlinecolor\": \"#2a3f5f\"}, \"baxis\": {\"endlinecolor\": \"#2a3f5f\", \"gridcolor\": \"white\", \"linecolor\": \"white\", \"minorgridcolor\": \"white\", \"startlinecolor\": \"#2a3f5f\"}, \"type\": \"carpet\"}], \"choropleth\": [{\"colorbar\": {\"outlinewidth\": 0, \"ticks\": \"\"}, \"type\": \"choropleth\"}], \"contour\": [{\"colorbar\": {\"outlinewidth\": 0, \"ticks\": \"\"}, \"colorscale\": [[0.0, \"#0d0887\"], [0.1111111111111111, \"#46039f\"], [0.2222222222222222, \"#7201a8\"], [0.3333333333333333, \"#9c179e\"], [0.4444444444444444, \"#bd3786\"], [0.5555555555555556, \"#d8576b\"], [0.6666666666666666, \"#ed7953\"], [0.7777777777777778, \"#fb9f3a\"], [0.8888888888888888, \"#fdca26\"], [1.0, \"#f0f921\"]], \"type\": \"contour\"}], \"contourcarpet\": [{\"colorbar\": {\"outlinewidth\": 0, \"ticks\": \"\"}, \"type\": \"contourcarpet\"}], \"heatmap\": [{\"colorbar\": {\"outlinewidth\": 0, \"ticks\": \"\"}, \"colorscale\": [[0.0, \"#0d0887\"], [0.1111111111111111, \"#46039f\"], [0.2222222222222222, \"#7201a8\"], [0.3333333333333333, \"#9c179e\"], [0.4444444444444444, \"#bd3786\"], [0.5555555555555556, \"#d8576b\"], [0.6666666666666666, \"#ed7953\"], [0.7777777777777778, \"#fb9f3a\"], [0.8888888888888888, \"#fdca26\"], [1.0, \"#f0f921\"]], \"type\": \"heatmap\"}], \"heatmapgl\": [{\"colorbar\": {\"outlinewidth\": 0, \"ticks\": \"\"}, \"colorscale\": [[0.0, \"#0d0887\"], [0.1111111111111111, \"#46039f\"], [0.2222222222222222, \"#7201a8\"], [0.3333333333333333, \"#9c179e\"], [0.4444444444444444, \"#bd3786\"], [0.5555555555555556, \"#d8576b\"], [0.6666666666666666, \"#ed7953\"], [0.7777777777777778, \"#fb9f3a\"], [0.8888888888888888, \"#fdca26\"], [1.0, \"#f0f921\"]], \"type\": \"heatmapgl\"}], \"histogram\": [{\"marker\": {\"colorbar\": {\"outlinewidth\": 0, \"ticks\": \"\"}}, \"type\": \"histogram\"}], \"histogram2d\": [{\"colorbar\": {\"outlinewidth\": 0, \"ticks\": \"\"}, \"colorscale\": [[0.0, \"#0d0887\"], [0.1111111111111111, \"#46039f\"], [0.2222222222222222, \"#7201a8\"], [0.3333333333333333, \"#9c179e\"], [0.4444444444444444, \"#bd3786\"], [0.5555555555555556, \"#d8576b\"], [0.6666666666666666, \"#ed7953\"], [0.7777777777777778, \"#fb9f3a\"], [0.8888888888888888, \"#fdca26\"], [1.0, \"#f0f921\"]], \"type\": \"histogram2d\"}], \"histogram2dcontour\": [{\"colorbar\": {\"outlinewidth\": 0, \"ticks\": \"\"}, \"colorscale\": [[0.0, \"#0d0887\"], [0.1111111111111111, \"#46039f\"], [0.2222222222222222, \"#7201a8\"], [0.3333333333333333, \"#9c179e\"], [0.4444444444444444, \"#bd3786\"], [0.5555555555555556, \"#d8576b\"], [0.6666666666666666, \"#ed7953\"], [0.7777777777777778, \"#fb9f3a\"], [0.8888888888888888, \"#fdca26\"], [1.0, \"#f0f921\"]], \"type\": \"histogram2dcontour\"}], \"mesh3d\": [{\"colorbar\": {\"outlinewidth\": 0, \"ticks\": \"\"}, \"type\": \"mesh3d\"}], \"parcoords\": [{\"line\": {\"colorbar\": {\"outlinewidth\": 0, \"ticks\": \"\"}}, \"type\": \"parcoords\"}], \"pie\": [{\"automargin\": true, \"type\": \"pie\"}], \"scatter\": [{\"marker\": {\"colorbar\": {\"outlinewidth\": 0, \"ticks\": \"\"}}, \"type\": \"scatter\"}], \"scatter3d\": [{\"line\": {\"colorbar\": {\"outlinewidth\": 0, \"ticks\": \"\"}}, \"marker\": {\"colorbar\": {\"outlinewidth\": 0, \"ticks\": \"\"}}, \"type\": \"scatter3d\"}], \"scattercarpet\": [{\"marker\": {\"colorbar\": {\"outlinewidth\": 0, \"ticks\": \"\"}}, \"type\": \"scattercarpet\"}], \"scattergeo\": [{\"marker\": {\"colorbar\": {\"outlinewidth\": 0, \"ticks\": \"\"}}, \"type\": \"scattergeo\"}], \"scattergl\": [{\"marker\": {\"colorbar\": {\"outlinewidth\": 0, \"ticks\": \"\"}}, \"type\": \"scattergl\"}], \"scattermapbox\": [{\"marker\": {\"colorbar\": {\"outlinewidth\": 0, \"ticks\": \"\"}}, \"type\": \"scattermapbox\"}], \"scatterpolar\": [{\"marker\": {\"colorbar\": {\"outlinewidth\": 0, \"ticks\": \"\"}}, \"type\": \"scatterpolar\"}], \"scatterpolargl\": [{\"marker\": {\"colorbar\": {\"outlinewidth\": 0, \"ticks\": \"\"}}, \"type\": \"scatterpolargl\"}], \"scatterternary\": [{\"marker\": {\"colorbar\": {\"outlinewidth\": 0, \"ticks\": \"\"}}, \"type\": \"scatterternary\"}], \"surface\": [{\"colorbar\": {\"outlinewidth\": 0, \"ticks\": \"\"}, \"colorscale\": [[0.0, \"#0d0887\"], [0.1111111111111111, \"#46039f\"], [0.2222222222222222, \"#7201a8\"], [0.3333333333333333, \"#9c179e\"], [0.4444444444444444, \"#bd3786\"], [0.5555555555555556, \"#d8576b\"], [0.6666666666666666, \"#ed7953\"], [0.7777777777777778, \"#fb9f3a\"], [0.8888888888888888, \"#fdca26\"], [1.0, \"#f0f921\"]], \"type\": \"surface\"}], \"table\": [{\"cells\": {\"fill\": {\"color\": \"#EBF0F8\"}, \"line\": {\"color\": \"white\"}}, \"header\": {\"fill\": {\"color\": \"#C8D4E3\"}, \"line\": {\"color\": \"white\"}}, \"type\": \"table\"}]}, \"layout\": {\"annotationdefaults\": {\"arrowcolor\": \"#2a3f5f\", \"arrowhead\": 0, \"arrowwidth\": 1}, \"autotypenumbers\": \"strict\", \"coloraxis\": {\"colorbar\": {\"outlinewidth\": 0, \"ticks\": \"\"}}, \"colorscale\": {\"diverging\": [[0, \"#8e0152\"], [0.1, \"#c51b7d\"], [0.2, \"#de77ae\"], [0.3, \"#f1b6da\"], [0.4, \"#fde0ef\"], [0.5, \"#f7f7f7\"], [0.6, \"#e6f5d0\"], [0.7, \"#b8e186\"], [0.8, \"#7fbc41\"], [0.9, \"#4d9221\"], [1, \"#276419\"]], \"sequential\": [[0.0, \"#0d0887\"], [0.1111111111111111, \"#46039f\"], [0.2222222222222222, \"#7201a8\"], [0.3333333333333333, \"#9c179e\"], [0.4444444444444444, \"#bd3786\"], [0.5555555555555556, \"#d8576b\"], [0.6666666666666666, \"#ed7953\"], [0.7777777777777778, \"#fb9f3a\"], [0.8888888888888888, \"#fdca26\"], [1.0, \"#f0f921\"]], \"sequentialminus\": [[0.0, \"#0d0887\"], [0.1111111111111111, \"#46039f\"], [0.2222222222222222, \"#7201a8\"], [0.3333333333333333, \"#9c179e\"], [0.4444444444444444, \"#bd3786\"], [0.5555555555555556, \"#d8576b\"], [0.6666666666666666, \"#ed7953\"], [0.7777777777777778, \"#fb9f3a\"], [0.8888888888888888, \"#fdca26\"], [1.0, \"#f0f921\"]]}, \"colorway\": [\"#636efa\", \"#EF553B\", \"#00cc96\", \"#ab63fa\", \"#FFA15A\", \"#19d3f3\", \"#FF6692\", \"#B6E880\", \"#FF97FF\", \"#FECB52\"], \"font\": {\"color\": \"#2a3f5f\"}, \"geo\": {\"bgcolor\": \"white\", \"lakecolor\": \"white\", \"landcolor\": \"#E5ECF6\", \"showlakes\": true, \"showland\": true, \"subunitcolor\": \"white\"}, \"hoverlabel\": {\"align\": \"left\"}, \"hovermode\": \"closest\", \"mapbox\": {\"style\": \"light\"}, \"paper_bgcolor\": \"white\", \"plot_bgcolor\": \"#E5ECF6\", \"polar\": {\"angularaxis\": {\"gridcolor\": \"white\", \"linecolor\": \"white\", \"ticks\": \"\"}, \"bgcolor\": \"#E5ECF6\", \"radialaxis\": {\"gridcolor\": \"white\", \"linecolor\": \"white\", \"ticks\": \"\"}}, \"scene\": {\"xaxis\": {\"backgroundcolor\": \"#E5ECF6\", \"gridcolor\": \"white\", \"gridwidth\": 2, \"linecolor\": \"white\", \"showbackground\": true, \"ticks\": \"\", \"zerolinecolor\": \"white\"}, \"yaxis\": {\"backgroundcolor\": \"#E5ECF6\", \"gridcolor\": \"white\", \"gridwidth\": 2, \"linecolor\": \"white\", \"showbackground\": true, \"ticks\": \"\", \"zerolinecolor\": \"white\"}, \"zaxis\": {\"backgroundcolor\": \"#E5ECF6\", \"gridcolor\": \"white\", \"gridwidth\": 2, \"linecolor\": \"white\", \"showbackground\": true, \"ticks\": \"\", \"zerolinecolor\": \"white\"}}, \"shapedefaults\": {\"line\": {\"color\": \"#2a3f5f\"}}, \"ternary\": {\"aaxis\": {\"gridcolor\": \"white\", \"linecolor\": \"white\", \"ticks\": \"\"}, \"baxis\": {\"gridcolor\": \"white\", \"linecolor\": \"white\", \"ticks\": \"\"}, \"bgcolor\": \"#E5ECF6\", \"caxis\": {\"gridcolor\": \"white\", \"linecolor\": \"white\", \"ticks\": \"\"}}, \"title\": {\"x\": 0.05}, \"xaxis\": {\"automargin\": true, \"gridcolor\": \"white\", \"linecolor\": \"white\", \"ticks\": \"\", \"title\": {\"standoff\": 15}, \"zerolinecolor\": \"white\", \"zerolinewidth\": 2}, \"yaxis\": {\"automargin\": true, \"gridcolor\": \"white\", \"linecolor\": \"white\", \"ticks\": \"\", \"title\": {\"standoff\": 15}, \"zerolinecolor\": \"white\", \"zerolinewidth\": 2}}}, \"title\": {\"text\": \"Distribution of 17337458 Movie-ratings released in 2004\"}, \"xaxis\": {\"title\": {\"text\": \"Rating\"}}, \"yaxis\": {\"title\": {\"text\": \"Movies\"}}},                        {\"responsive\": true}                    ).then(function(){\n",
       "                            \n",
       "var gd = document.getElementById('24296eac-3ff5-4e6b-84b5-32a2da967aef');\n",
       "var x = new MutationObserver(function (mutations, observer) {{\n",
       "        var display = window.getComputedStyle(gd).display;\n",
       "        if (!display || display === 'none') {{\n",
       "            console.log([gd, 'removed!']);\n",
       "            Plotly.purge(gd);\n",
       "            observer.disconnect();\n",
       "        }}\n",
       "}});\n",
       "\n",
       "// Listen for the removal of the full notebook cells\n",
       "var notebookContainer = gd.closest('#notebook-container');\n",
       "if (notebookContainer) {{\n",
       "    x.observe(notebookContainer, {childList: true});\n",
       "}}\n",
       "\n",
       "// Listen for the clearing of the current output cell\n",
       "var outputEl = gd.closest('.output');\n",
       "if (outputEl) {{\n",
       "    x.observe(outputEl, {childList: true});\n",
       "}}\n",
       "\n",
       "                        })                };                });            </script>        </div>"
      ]
     },
     "metadata": {},
     "output_type": "display_data"
    }
   ],
   "source": [
    "df_2004 = df_title[df_title['Year']==2004]\n",
    "df_2004 = df_2004.merge(df,on='Movie_ID')\n",
    "\n",
    "data = df_2004['Rating'].value_counts()\n",
    "\n",
    "trace = go.Bar(x = data.index,y = data.values,text = ['{:.1f} %'.format(val) for val in (data.values / df_2004.shape[0] * 100)],textposition = 'auto')\n",
    "\n",
    "layout = dict(title = 'Distribution of {} Movie-ratings released in 2004'.format(df.shape[0]), xaxis = dict(title = 'Rating'), yaxis = dict(title = 'Movies'))\n",
    "\n",
    "fig = go.Figure(data=[trace], layout=layout)\n",
    "\n",
    "iplot(fig)"
   ]
  },
  {
   "cell_type": "code",
   "execution_count": 22,
   "id": "hairy-satisfaction",
   "metadata": {
    "execution": {
     "iopub.execute_input": "2021-06-19T12:51:45.362811Z",
     "iopub.status.busy": "2021-06-19T12:51:45.361729Z",
     "iopub.status.idle": "2021-06-19T12:51:45.411796Z",
     "shell.execute_reply": "2021-06-19T12:51:45.412324Z",
     "shell.execute_reply.started": "2021-06-18T14:54:19.554137Z"
    },
    "papermill": {
     "duration": 0.101335,
     "end_time": "2021-06-19T12:51:45.412560",
     "exception": false,
     "start_time": "2021-06-19T12:51:45.311225",
     "status": "completed"
    },
    "tags": []
   },
   "outputs": [
    {
     "data": {
      "text/html": [
       "<div>                            <div id=\"0997c5c9-473a-4e3f-a402-dcc2a365443e\" class=\"plotly-graph-div\" style=\"height:525px; width:100%;\"></div>            <script type=\"text/javascript\">                require([\"plotly\"], function(Plotly) {                    window.PLOTLYENV=window.PLOTLYENV || {};                                    if (document.getElementById(\"0997c5c9-473a-4e3f-a402-dcc2a365443e\")) {                    Plotly.newPlot(                        \"0997c5c9-473a-4e3f-a402-dcc2a365443e\",                        [{\"text\": [\"41.7 %\", \"37.1 %\", \"16.4 %\", \"3.7 %\", \"1.1 %\"], \"textposition\": \"auto\", \"type\": \"bar\", \"x\": [5, 4, 3, 2, 1], \"y\": [48840, 43410, 19233, 4301, 1291]}],                        {\"template\": {\"data\": {\"bar\": [{\"error_x\": {\"color\": \"#2a3f5f\"}, \"error_y\": {\"color\": \"#2a3f5f\"}, \"marker\": {\"line\": {\"color\": \"#E5ECF6\", \"width\": 0.5}}, \"type\": \"bar\"}], \"barpolar\": [{\"marker\": {\"line\": {\"color\": \"#E5ECF6\", \"width\": 0.5}}, \"type\": \"barpolar\"}], \"carpet\": [{\"aaxis\": {\"endlinecolor\": \"#2a3f5f\", \"gridcolor\": \"white\", \"linecolor\": \"white\", \"minorgridcolor\": \"white\", \"startlinecolor\": \"#2a3f5f\"}, \"baxis\": {\"endlinecolor\": \"#2a3f5f\", \"gridcolor\": \"white\", \"linecolor\": \"white\", \"minorgridcolor\": \"white\", \"startlinecolor\": \"#2a3f5f\"}, \"type\": \"carpet\"}], \"choropleth\": [{\"colorbar\": {\"outlinewidth\": 0, \"ticks\": \"\"}, \"type\": \"choropleth\"}], \"contour\": [{\"colorbar\": {\"outlinewidth\": 0, \"ticks\": \"\"}, \"colorscale\": [[0.0, \"#0d0887\"], [0.1111111111111111, \"#46039f\"], [0.2222222222222222, \"#7201a8\"], [0.3333333333333333, \"#9c179e\"], [0.4444444444444444, \"#bd3786\"], [0.5555555555555556, \"#d8576b\"], [0.6666666666666666, \"#ed7953\"], [0.7777777777777778, \"#fb9f3a\"], [0.8888888888888888, \"#fdca26\"], [1.0, \"#f0f921\"]], \"type\": \"contour\"}], \"contourcarpet\": [{\"colorbar\": {\"outlinewidth\": 0, \"ticks\": \"\"}, \"type\": \"contourcarpet\"}], \"heatmap\": [{\"colorbar\": {\"outlinewidth\": 0, \"ticks\": \"\"}, \"colorscale\": [[0.0, \"#0d0887\"], [0.1111111111111111, \"#46039f\"], [0.2222222222222222, \"#7201a8\"], [0.3333333333333333, \"#9c179e\"], [0.4444444444444444, \"#bd3786\"], [0.5555555555555556, \"#d8576b\"], [0.6666666666666666, \"#ed7953\"], [0.7777777777777778, \"#fb9f3a\"], [0.8888888888888888, \"#fdca26\"], [1.0, \"#f0f921\"]], \"type\": \"heatmap\"}], \"heatmapgl\": [{\"colorbar\": {\"outlinewidth\": 0, \"ticks\": \"\"}, \"colorscale\": [[0.0, \"#0d0887\"], [0.1111111111111111, \"#46039f\"], [0.2222222222222222, \"#7201a8\"], [0.3333333333333333, \"#9c179e\"], [0.4444444444444444, \"#bd3786\"], [0.5555555555555556, \"#d8576b\"], [0.6666666666666666, \"#ed7953\"], [0.7777777777777778, \"#fb9f3a\"], [0.8888888888888888, \"#fdca26\"], [1.0, \"#f0f921\"]], \"type\": \"heatmapgl\"}], \"histogram\": [{\"marker\": {\"colorbar\": {\"outlinewidth\": 0, \"ticks\": \"\"}}, \"type\": \"histogram\"}], \"histogram2d\": [{\"colorbar\": {\"outlinewidth\": 0, \"ticks\": \"\"}, \"colorscale\": [[0.0, \"#0d0887\"], [0.1111111111111111, \"#46039f\"], [0.2222222222222222, \"#7201a8\"], [0.3333333333333333, \"#9c179e\"], [0.4444444444444444, \"#bd3786\"], [0.5555555555555556, \"#d8576b\"], [0.6666666666666666, \"#ed7953\"], [0.7777777777777778, \"#fb9f3a\"], [0.8888888888888888, \"#fdca26\"], [1.0, \"#f0f921\"]], \"type\": \"histogram2d\"}], \"histogram2dcontour\": [{\"colorbar\": {\"outlinewidth\": 0, \"ticks\": \"\"}, \"colorscale\": [[0.0, \"#0d0887\"], [0.1111111111111111, \"#46039f\"], [0.2222222222222222, \"#7201a8\"], [0.3333333333333333, \"#9c179e\"], [0.4444444444444444, \"#bd3786\"], [0.5555555555555556, \"#d8576b\"], [0.6666666666666666, \"#ed7953\"], [0.7777777777777778, \"#fb9f3a\"], [0.8888888888888888, \"#fdca26\"], [1.0, \"#f0f921\"]], \"type\": \"histogram2dcontour\"}], \"mesh3d\": [{\"colorbar\": {\"outlinewidth\": 0, \"ticks\": \"\"}, \"type\": \"mesh3d\"}], \"parcoords\": [{\"line\": {\"colorbar\": {\"outlinewidth\": 0, \"ticks\": \"\"}}, \"type\": \"parcoords\"}], \"pie\": [{\"automargin\": true, \"type\": \"pie\"}], \"scatter\": [{\"marker\": {\"colorbar\": {\"outlinewidth\": 0, \"ticks\": \"\"}}, \"type\": \"scatter\"}], \"scatter3d\": [{\"line\": {\"colorbar\": {\"outlinewidth\": 0, \"ticks\": \"\"}}, \"marker\": {\"colorbar\": {\"outlinewidth\": 0, \"ticks\": \"\"}}, \"type\": \"scatter3d\"}], \"scattercarpet\": [{\"marker\": {\"colorbar\": {\"outlinewidth\": 0, \"ticks\": \"\"}}, \"type\": \"scattercarpet\"}], \"scattergeo\": [{\"marker\": {\"colorbar\": {\"outlinewidth\": 0, \"ticks\": \"\"}}, \"type\": \"scattergeo\"}], \"scattergl\": [{\"marker\": {\"colorbar\": {\"outlinewidth\": 0, \"ticks\": \"\"}}, \"type\": \"scattergl\"}], \"scattermapbox\": [{\"marker\": {\"colorbar\": {\"outlinewidth\": 0, \"ticks\": \"\"}}, \"type\": \"scattermapbox\"}], \"scatterpolar\": [{\"marker\": {\"colorbar\": {\"outlinewidth\": 0, \"ticks\": \"\"}}, \"type\": \"scatterpolar\"}], \"scatterpolargl\": [{\"marker\": {\"colorbar\": {\"outlinewidth\": 0, \"ticks\": \"\"}}, \"type\": \"scatterpolargl\"}], \"scatterternary\": [{\"marker\": {\"colorbar\": {\"outlinewidth\": 0, \"ticks\": \"\"}}, \"type\": \"scatterternary\"}], \"surface\": [{\"colorbar\": {\"outlinewidth\": 0, \"ticks\": \"\"}, \"colorscale\": [[0.0, \"#0d0887\"], [0.1111111111111111, \"#46039f\"], [0.2222222222222222, \"#7201a8\"], [0.3333333333333333, \"#9c179e\"], [0.4444444444444444, \"#bd3786\"], [0.5555555555555556, \"#d8576b\"], [0.6666666666666666, \"#ed7953\"], [0.7777777777777778, \"#fb9f3a\"], [0.8888888888888888, \"#fdca26\"], [1.0, \"#f0f921\"]], \"type\": \"surface\"}], \"table\": [{\"cells\": {\"fill\": {\"color\": \"#EBF0F8\"}, \"line\": {\"color\": \"white\"}}, \"header\": {\"fill\": {\"color\": \"#C8D4E3\"}, \"line\": {\"color\": \"white\"}}, \"type\": \"table\"}]}, \"layout\": {\"annotationdefaults\": {\"arrowcolor\": \"#2a3f5f\", \"arrowhead\": 0, \"arrowwidth\": 1}, \"autotypenumbers\": \"strict\", \"coloraxis\": {\"colorbar\": {\"outlinewidth\": 0, \"ticks\": \"\"}}, \"colorscale\": {\"diverging\": [[0, \"#8e0152\"], [0.1, \"#c51b7d\"], [0.2, \"#de77ae\"], [0.3, \"#f1b6da\"], [0.4, \"#fde0ef\"], [0.5, \"#f7f7f7\"], [0.6, \"#e6f5d0\"], [0.7, \"#b8e186\"], [0.8, \"#7fbc41\"], [0.9, \"#4d9221\"], [1, \"#276419\"]], \"sequential\": [[0.0, \"#0d0887\"], [0.1111111111111111, \"#46039f\"], [0.2222222222222222, \"#7201a8\"], [0.3333333333333333, \"#9c179e\"], [0.4444444444444444, \"#bd3786\"], [0.5555555555555556, \"#d8576b\"], [0.6666666666666666, \"#ed7953\"], [0.7777777777777778, \"#fb9f3a\"], [0.8888888888888888, \"#fdca26\"], [1.0, \"#f0f921\"]], \"sequentialminus\": [[0.0, \"#0d0887\"], [0.1111111111111111, \"#46039f\"], [0.2222222222222222, \"#7201a8\"], [0.3333333333333333, \"#9c179e\"], [0.4444444444444444, \"#bd3786\"], [0.5555555555555556, \"#d8576b\"], [0.6666666666666666, \"#ed7953\"], [0.7777777777777778, \"#fb9f3a\"], [0.8888888888888888, \"#fdca26\"], [1.0, \"#f0f921\"]]}, \"colorway\": [\"#636efa\", \"#EF553B\", \"#00cc96\", \"#ab63fa\", \"#FFA15A\", \"#19d3f3\", \"#FF6692\", \"#B6E880\", \"#FF97FF\", \"#FECB52\"], \"font\": {\"color\": \"#2a3f5f\"}, \"geo\": {\"bgcolor\": \"white\", \"lakecolor\": \"white\", \"landcolor\": \"#E5ECF6\", \"showlakes\": true, \"showland\": true, \"subunitcolor\": \"white\"}, \"hoverlabel\": {\"align\": \"left\"}, \"hovermode\": \"closest\", \"mapbox\": {\"style\": \"light\"}, \"paper_bgcolor\": \"white\", \"plot_bgcolor\": \"#E5ECF6\", \"polar\": {\"angularaxis\": {\"gridcolor\": \"white\", \"linecolor\": \"white\", \"ticks\": \"\"}, \"bgcolor\": \"#E5ECF6\", \"radialaxis\": {\"gridcolor\": \"white\", \"linecolor\": \"white\", \"ticks\": \"\"}}, \"scene\": {\"xaxis\": {\"backgroundcolor\": \"#E5ECF6\", \"gridcolor\": \"white\", \"gridwidth\": 2, \"linecolor\": \"white\", \"showbackground\": true, \"ticks\": \"\", \"zerolinecolor\": \"white\"}, \"yaxis\": {\"backgroundcolor\": \"#E5ECF6\", \"gridcolor\": \"white\", \"gridwidth\": 2, \"linecolor\": \"white\", \"showbackground\": true, \"ticks\": \"\", \"zerolinecolor\": \"white\"}, \"zaxis\": {\"backgroundcolor\": \"#E5ECF6\", \"gridcolor\": \"white\", \"gridwidth\": 2, \"linecolor\": \"white\", \"showbackground\": true, \"ticks\": \"\", \"zerolinecolor\": \"white\"}}, \"shapedefaults\": {\"line\": {\"color\": \"#2a3f5f\"}}, \"ternary\": {\"aaxis\": {\"gridcolor\": \"white\", \"linecolor\": \"white\", \"ticks\": \"\"}, \"baxis\": {\"gridcolor\": \"white\", \"linecolor\": \"white\", \"ticks\": \"\"}, \"bgcolor\": \"#E5ECF6\", \"caxis\": {\"gridcolor\": \"white\", \"linecolor\": \"white\", \"ticks\": \"\"}}, \"title\": {\"x\": 0.05}, \"xaxis\": {\"automargin\": true, \"gridcolor\": \"white\", \"linecolor\": \"white\", \"ticks\": \"\", \"title\": {\"standoff\": 15}, \"zerolinecolor\": \"white\", \"zerolinewidth\": 2}, \"yaxis\": {\"automargin\": true, \"gridcolor\": \"white\", \"linecolor\": \"white\", \"ticks\": \"\", \"title\": {\"standoff\": 15}, \"zerolinecolor\": \"white\", \"zerolinewidth\": 2}}}, \"title\": {\"text\": \"Distribution of Most Rated Movie -Pirates of the Caribbean: The Curse of the Blac... Movie-Ratings\"}},                        {\"responsive\": true}                    ).then(function(){\n",
       "                            \n",
       "var gd = document.getElementById('0997c5c9-473a-4e3f-a402-dcc2a365443e');\n",
       "var x = new MutationObserver(function (mutations, observer) {{\n",
       "        var display = window.getComputedStyle(gd).display;\n",
       "        if (!display || display === 'none') {{\n",
       "            console.log([gd, 'removed!']);\n",
       "            Plotly.purge(gd);\n",
       "            observer.disconnect();\n",
       "        }}\n",
       "}});\n",
       "\n",
       "// Listen for the removal of the full notebook cells\n",
       "var notebookContainer = gd.closest('#notebook-container');\n",
       "if (notebookContainer) {{\n",
       "    x.observe(notebookContainer, {childList: true});\n",
       "}}\n",
       "\n",
       "// Listen for the clearing of the current output cell\n",
       "var outputEl = gd.closest('.output');\n",
       "if (outputEl) {{\n",
       "    x.observe(outputEl, {childList: true});\n",
       "}}\n",
       "\n",
       "                        })                };                });            </script>        </div>"
      ]
     },
     "metadata": {},
     "output_type": "display_data"
    }
   ],
   "source": [
    "df_max_ratings = df_movie_summary[df_movie_summary['count']==df_movie_summary['count'].max()]\n",
    "\n",
    "req_MID = df_max_ratings.index[0]\n",
    "df_max_ratings = df[df['Movie_ID'] ==req_MID]\n",
    "\n",
    "Movie_name_max_raings = df_title['Name'][df_title['Movie_ID']==req_MID].to_string(index=False)\n",
    "\n",
    "data = df_max_ratings['Rating'].value_counts()\n",
    "\n",
    "trace = go.Bar(x = data.index,y = data.values,text = ['{:.1f} %'.format(val) for val in (data.values / df_max_ratings.shape[0] * 100)],textposition = 'auto')\n",
    "\n",
    "layout = dict(title = 'Distribution of Most Rated Movie -'+Movie_name_max_raings+ ' Movie-Ratings')\n",
    "\n",
    "fig = go.Figure(data=[trace], layout=layout)\n",
    "\n",
    "iplot(fig)"
   ]
  },
  {
   "cell_type": "markdown",
   "id": "described-satisfaction",
   "metadata": {
    "papermill": {
     "duration": 0.043882,
     "end_time": "2021-06-19T12:51:45.498986",
     "exception": false,
     "start_time": "2021-06-19T12:51:45.455104",
     "status": "completed"
    },
    "tags": []
   },
   "source": [
    "# 4. Recommendation Model\n"
   ]
  },
  {
   "cell_type": "markdown",
   "id": "formed-victor",
   "metadata": {
    "papermill": {
     "duration": 0.041275,
     "end_time": "2021-06-19T12:51:45.582065",
     "exception": false,
     "start_time": "2021-06-19T12:51:45.540790",
     "status": "completed"
    },
    "tags": []
   },
   "source": [
    "## 4.1 Collaborative Filtering - SVD"
   ]
  },
  {
   "cell_type": "code",
   "execution_count": 23,
   "id": "consistent-forge",
   "metadata": {
    "execution": {
     "iopub.execute_input": "2021-06-19T12:51:45.668694Z",
     "iopub.status.busy": "2021-06-19T12:51:45.668064Z",
     "iopub.status.idle": "2021-06-19T13:09:56.488283Z",
     "shell.execute_reply": "2021-06-19T13:09:56.488841Z",
     "shell.execute_reply.started": "2021-06-18T14:57:07.949788Z"
    },
    "papermill": {
     "duration": 1090.865443,
     "end_time": "2021-06-19T13:09:56.489221",
     "exception": false,
     "start_time": "2021-06-19T12:51:45.623778",
     "status": "completed"
    },
    "tags": []
   },
   "outputs": [
    {
     "name": "stdout",
     "output_type": "stream",
     "text": [
      "Processing epoch 0\n",
      "Processing epoch 1\n",
      "Processing epoch 2\n",
      "Processing epoch 3\n",
      "Processing epoch 4\n",
      "Processing epoch 5\n",
      "Processing epoch 6\n",
      "Processing epoch 7\n",
      "Processing epoch 8\n",
      "Processing epoch 9\n"
     ]
    },
    {
     "data": {
      "text/plain": [
       "<surprise.prediction_algorithms.matrix_factorization.SVD at 0x7f0574f60d50>"
      ]
     },
     "execution_count": 23,
     "metadata": {},
     "output_type": "execute_result"
    }
   ],
   "source": [
    "model = SVD(n_epochs=10,verbose = True)\n",
    "\n",
    "data = Dataset.load_from_df(df[['User_ID', 'Movie_ID', 'Rating']], Reader())\n",
    "\n",
    "trainset, testset = train_test_split(data, test_size=0.3,random_state=10)\n",
    "\n",
    "trainset = data.build_full_trainset()\n",
    "\n",
    "model.fit(trainset)"
   ]
  },
  {
   "cell_type": "code",
   "execution_count": 24,
   "id": "accredited-technique",
   "metadata": {
    "execution": {
     "iopub.execute_input": "2021-06-19T13:09:56.624273Z",
     "iopub.status.busy": "2021-06-19T13:09:56.623154Z",
     "iopub.status.idle": "2021-06-19T13:11:51.772690Z",
     "shell.execute_reply": "2021-06-19T13:11:51.771617Z",
     "shell.execute_reply.started": "2021-06-18T15:07:29.334529Z"
    },
    "papermill": {
     "duration": 115.238802,
     "end_time": "2021-06-19T13:11:51.772919",
     "exception": false,
     "start_time": "2021-06-19T13:09:56.534117",
     "status": "completed"
    },
    "tags": []
   },
   "outputs": [
    {
     "name": "stdout",
     "output_type": "stream",
     "text": [
      "RMSE: 0.8300\n"
     ]
    },
    {
     "data": {
      "text/plain": [
       "0.830024564649771"
      ]
     },
     "execution_count": 24,
     "metadata": {},
     "output_type": "execute_result"
    }
   ],
   "source": [
    "predictions = model.test(testset)\n",
    "\n",
    "accuracy.rmse(predictions, verbose=True)"
   ]
  },
  {
   "cell_type": "code",
   "execution_count": 25,
   "id": "spiritual-oregon",
   "metadata": {
    "execution": {
     "iopub.execute_input": "2021-06-19T13:11:51.868433Z",
     "iopub.status.busy": "2021-06-19T13:11:51.867777Z",
     "iopub.status.idle": "2021-06-19T13:11:51.874397Z",
     "shell.execute_reply": "2021-06-19T13:11:51.874932Z",
     "shell.execute_reply.started": "2021-06-18T15:09:40.392225Z"
    },
    "papermill": {
     "duration": 0.055834,
     "end_time": "2021-06-19T13:11:51.875118",
     "exception": false,
     "start_time": "2021-06-19T13:11:51.819284",
     "status": "completed"
    },
    "tags": []
   },
   "outputs": [],
   "source": [
    "def Recommendation(given_user_id,n_movies):\n",
    "    given_user = df_title.copy()\n",
    "    given_user = given_user.reset_index()\n",
    "    given_user = given_user[~given_user['Movie_ID'].isin(drop_movie_list)]\n",
    "\n",
    "\n",
    "    given_user['Estimated_Rating'] = given_user['Movie_ID'].apply(lambda x: model.predict(given_user_id, x).est)\n",
    "\n",
    "    given_user = given_user.drop('Movie_ID', axis = 1)\n",
    "\n",
    "    given_user = given_user.sort_values('Estimated_Rating', ascending=False)\n",
    "    given_user.drop(['index'], axis = 1,inplace=True)\n",
    "    given_user.reset_index(inplace=True,drop=True)\n",
    "    return given_user.head(n_movies)"
   ]
  },
  {
   "cell_type": "markdown",
   "id": "intended-product",
   "metadata": {
    "papermill": {
     "duration": 0.046141,
     "end_time": "2021-06-19T13:11:51.966975",
     "exception": false,
     "start_time": "2021-06-19T13:11:51.920834",
     "status": "completed"
    },
    "tags": []
   },
   "source": [
    "### Movie Recommendation for User - 712664"
   ]
  },
  {
   "cell_type": "code",
   "execution_count": 26,
   "id": "nervous-answer",
   "metadata": {
    "execution": {
     "iopub.execute_input": "2021-06-19T13:11:52.064789Z",
     "iopub.status.busy": "2021-06-19T13:11:52.064075Z",
     "iopub.status.idle": "2021-06-19T13:11:52.242638Z",
     "shell.execute_reply": "2021-06-19T13:11:52.241949Z",
     "shell.execute_reply.started": "2021-06-18T15:09:40.403250Z"
    },
    "papermill": {
     "duration": 0.229461,
     "end_time": "2021-06-19T13:11:52.242793",
     "exception": false,
     "start_time": "2021-06-19T13:11:52.013332",
     "status": "completed"
    },
    "tags": []
   },
   "outputs": [
    {
     "data": {
      "text/html": [
       "<div>\n",
       "<style scoped>\n",
       "    .dataframe tbody tr th:only-of-type {\n",
       "        vertical-align: middle;\n",
       "    }\n",
       "\n",
       "    .dataframe tbody tr th {\n",
       "        vertical-align: top;\n",
       "    }\n",
       "\n",
       "    .dataframe thead th {\n",
       "        text-align: right;\n",
       "    }\n",
       "</style>\n",
       "<table border=\"1\" class=\"dataframe\">\n",
       "  <thead>\n",
       "    <tr style=\"text-align: right;\">\n",
       "      <th></th>\n",
       "      <th>Year</th>\n",
       "      <th>Name</th>\n",
       "      <th>Estimated_Rating</th>\n",
       "    </tr>\n",
       "  </thead>\n",
       "  <tbody>\n",
       "    <tr>\n",
       "      <th>0</th>\n",
       "      <td>1954</td>\n",
       "      <td>Seven Samurai</td>\n",
       "      <td>4.992492</td>\n",
       "    </tr>\n",
       "    <tr>\n",
       "      <th>1</th>\n",
       "      <td>1990</td>\n",
       "      <td>The Simpsons: Treehouse of Horror</td>\n",
       "      <td>4.875574</td>\n",
       "    </tr>\n",
       "    <tr>\n",
       "      <th>2</th>\n",
       "      <td>1992</td>\n",
       "      <td>Reservoir Dogs</td>\n",
       "      <td>4.814086</td>\n",
       "    </tr>\n",
       "    <tr>\n",
       "      <th>3</th>\n",
       "      <td>1991</td>\n",
       "      <td>The Simpsons: Season 3</td>\n",
       "      <td>4.807037</td>\n",
       "    </tr>\n",
       "    <tr>\n",
       "      <th>4</th>\n",
       "      <td>1949</td>\n",
       "      <td>The Third Man</td>\n",
       "      <td>4.725118</td>\n",
       "    </tr>\n",
       "    <tr>\n",
       "      <th>5</th>\n",
       "      <td>1989</td>\n",
       "      <td>The Simpsons: Season 1</td>\n",
       "      <td>4.716759</td>\n",
       "    </tr>\n",
       "    <tr>\n",
       "      <th>6</th>\n",
       "      <td>1959</td>\n",
       "      <td>North by Northwest</td>\n",
       "      <td>4.706894</td>\n",
       "    </tr>\n",
       "    <tr>\n",
       "      <th>7</th>\n",
       "      <td>1974</td>\n",
       "      <td>The Godfather</td>\n",
       "      <td>4.702629</td>\n",
       "    </tr>\n",
       "    <tr>\n",
       "      <th>8</th>\n",
       "      <td>2002</td>\n",
       "      <td>Spirited Away</td>\n",
       "      <td>4.673331</td>\n",
       "    </tr>\n",
       "    <tr>\n",
       "      <th>9</th>\n",
       "      <td>2003</td>\n",
       "      <td>Chappelle's Show: Season 1</td>\n",
       "      <td>4.634730</td>\n",
       "    </tr>\n",
       "  </tbody>\n",
       "</table>\n",
       "</div>"
      ],
      "text/plain": [
       "   Year                               Name  Estimated_Rating\n",
       "0  1954                      Seven Samurai          4.992492\n",
       "1  1990  The Simpsons: Treehouse of Horror          4.875574\n",
       "2  1992                     Reservoir Dogs          4.814086\n",
       "3  1991             The Simpsons: Season 3          4.807037\n",
       "4  1949                      The Third Man          4.725118\n",
       "5  1989             The Simpsons: Season 1          4.716759\n",
       "6  1959                 North by Northwest          4.706894\n",
       "7  1974                      The Godfather          4.702629\n",
       "8  2002                      Spirited Away          4.673331\n",
       "9  2003         Chappelle's Show: Season 1          4.634730"
      ]
     },
     "execution_count": 26,
     "metadata": {},
     "output_type": "execute_result"
    }
   ],
   "source": [
    "Recommendation(712664,10)"
   ]
  },
  {
   "cell_type": "markdown",
   "id": "adjacent-journey",
   "metadata": {
    "papermill": {
     "duration": 0.045734,
     "end_time": "2021-06-19T13:11:52.339591",
     "exception": false,
     "start_time": "2021-06-19T13:11:52.293857",
     "status": "completed"
    },
    "tags": []
   },
   "source": [
    "### Movie Recommendation for User - 2643029"
   ]
  },
  {
   "cell_type": "code",
   "execution_count": 27,
   "id": "characteristic-florist",
   "metadata": {
    "execution": {
     "iopub.execute_input": "2021-06-19T13:11:52.439883Z",
     "iopub.status.busy": "2021-06-19T13:11:52.438754Z",
     "iopub.status.idle": "2021-06-19T13:11:52.608673Z",
     "shell.execute_reply": "2021-06-19T13:11:52.608064Z",
     "shell.execute_reply.started": "2021-06-18T15:09:40.594616Z"
    },
    "papermill": {
     "duration": 0.223079,
     "end_time": "2021-06-19T13:11:52.608839",
     "exception": false,
     "start_time": "2021-06-19T13:11:52.385760",
     "status": "completed"
    },
    "tags": []
   },
   "outputs": [
    {
     "data": {
      "text/html": [
       "<div>\n",
       "<style scoped>\n",
       "    .dataframe tbody tr th:only-of-type {\n",
       "        vertical-align: middle;\n",
       "    }\n",
       "\n",
       "    .dataframe tbody tr th {\n",
       "        vertical-align: top;\n",
       "    }\n",
       "\n",
       "    .dataframe thead th {\n",
       "        text-align: right;\n",
       "    }\n",
       "</style>\n",
       "<table border=\"1\" class=\"dataframe\">\n",
       "  <thead>\n",
       "    <tr style=\"text-align: right;\">\n",
       "      <th></th>\n",
       "      <th>Year</th>\n",
       "      <th>Name</th>\n",
       "      <th>Estimated_Rating</th>\n",
       "    </tr>\n",
       "  </thead>\n",
       "  <tbody>\n",
       "    <tr>\n",
       "      <th>0</th>\n",
       "      <td>1954</td>\n",
       "      <td>Seven Samurai</td>\n",
       "      <td>4.731809</td>\n",
       "    </tr>\n",
       "    <tr>\n",
       "      <th>1</th>\n",
       "      <td>2002</td>\n",
       "      <td>Spirited Away</td>\n",
       "      <td>4.652380</td>\n",
       "    </tr>\n",
       "    <tr>\n",
       "      <th>2</th>\n",
       "      <td>1992</td>\n",
       "      <td>Reservoir Dogs</td>\n",
       "      <td>4.567584</td>\n",
       "    </tr>\n",
       "    <tr>\n",
       "      <th>3</th>\n",
       "      <td>2002</td>\n",
       "      <td>The Pianist</td>\n",
       "      <td>4.557840</td>\n",
       "    </tr>\n",
       "    <tr>\n",
       "      <th>4</th>\n",
       "      <td>2001</td>\n",
       "      <td>Wallace &amp; Gromit in Three Amazing Adventures</td>\n",
       "      <td>4.551845</td>\n",
       "    </tr>\n",
       "    <tr>\n",
       "      <th>5</th>\n",
       "      <td>1995</td>\n",
       "      <td>Pride and Prejudice</td>\n",
       "      <td>4.538372</td>\n",
       "    </tr>\n",
       "    <tr>\n",
       "      <th>6</th>\n",
       "      <td>1990</td>\n",
       "      <td>The Simpsons: Treehouse of Horror</td>\n",
       "      <td>4.512210</td>\n",
       "    </tr>\n",
       "    <tr>\n",
       "      <th>7</th>\n",
       "      <td>1974</td>\n",
       "      <td>The Godfather</td>\n",
       "      <td>4.476648</td>\n",
       "    </tr>\n",
       "    <tr>\n",
       "      <th>8</th>\n",
       "      <td>1959</td>\n",
       "      <td>North by Northwest</td>\n",
       "      <td>4.474071</td>\n",
       "    </tr>\n",
       "    <tr>\n",
       "      <th>9</th>\n",
       "      <td>2001</td>\n",
       "      <td>Lord of the Rings: The Fellowship of the Ring</td>\n",
       "      <td>4.465811</td>\n",
       "    </tr>\n",
       "  </tbody>\n",
       "</table>\n",
       "</div>"
      ],
      "text/plain": [
       "   Year                                           Name  Estimated_Rating\n",
       "0  1954                                  Seven Samurai          4.731809\n",
       "1  2002                                  Spirited Away          4.652380\n",
       "2  1992                                 Reservoir Dogs          4.567584\n",
       "3  2002                                    The Pianist          4.557840\n",
       "4  2001   Wallace & Gromit in Three Amazing Adventures          4.551845\n",
       "5  1995                            Pride and Prejudice          4.538372\n",
       "6  1990              The Simpsons: Treehouse of Horror          4.512210\n",
       "7  1974                                  The Godfather          4.476648\n",
       "8  1959                             North by Northwest          4.474071\n",
       "9  2001  Lord of the Rings: The Fellowship of the Ring          4.465811"
      ]
     },
     "execution_count": 27,
     "metadata": {},
     "output_type": "execute_result"
    }
   ],
   "source": [
    "Recommendation(2643029,10)"
   ]
  },
  {
   "cell_type": "markdown",
   "id": "single-pound",
   "metadata": {
    "execution": {
     "iopub.execute_input": "2021-06-18T13:12:37.265216Z",
     "iopub.status.busy": "2021-06-18T13:12:37.264753Z",
     "iopub.status.idle": "2021-06-18T13:13:04.652364Z",
     "shell.execute_reply": "2021-06-18T13:13:04.651308Z",
     "shell.execute_reply.started": "2021-06-18T13:12:37.265175Z"
    },
    "papermill": {
     "duration": 0.046657,
     "end_time": "2021-06-19T13:11:52.707356",
     "exception": false,
     "start_time": "2021-06-19T13:11:52.660699",
     "status": "completed"
    },
    "tags": []
   },
   "source": [
    "## 4.2 Pearson Correlation Method"
   ]
  },
  {
   "cell_type": "code",
   "execution_count": 28,
   "id": "complex-leonard",
   "metadata": {
    "execution": {
     "iopub.execute_input": "2021-06-19T13:11:52.806047Z",
     "iopub.status.busy": "2021-06-19T13:11:52.805013Z",
     "iopub.status.idle": "2021-06-19T13:12:22.441541Z",
     "shell.execute_reply": "2021-06-19T13:12:22.440828Z",
     "shell.execute_reply.started": "2021-06-18T16:02:51.611687Z"
    },
    "papermill": {
     "duration": 29.687375,
     "end_time": "2021-06-19T13:12:22.441716",
     "exception": false,
     "start_time": "2021-06-19T13:11:52.754341",
     "status": "completed"
    },
    "tags": []
   },
   "outputs": [],
   "source": [
    "df_p = pd.pivot_table(df,values='Rating',index='User_ID',columns='Movie_ID')\n",
    "\n",
    "def Recommend_based_on_movie(movie_title, min_count):\n",
    "    i = int(df__title.index[df__title['Name'] == movie_title][0])\n",
    "    target = df_p[i]\n",
    "    similar_to_target = df_p.corrwith(target)\n",
    "    corr_target = pd.DataFrame(similar_to_target, columns = ['PearsonR'])\n",
    "    corr_target.dropna(inplace = True)\n",
    "    corr_target = corr_target.sort_values('PearsonR', ascending = False)\n",
    "    corr_target.index = corr_target.index.map(int)\n",
    "    corr_target = corr_target.join(df__title).join(df_movie_summary)[['PearsonR', 'Name', 'count', 'mean']]\n",
    "    corr_target = corr_target[corr_target['count']>min_count][:10]\n",
    "    corr_target.reset_index(drop=True,inplace=True)\n",
    "    return corr_target"
   ]
  },
  {
   "cell_type": "markdown",
   "id": "recognized-darwin",
   "metadata": {
    "papermill": {
     "duration": 0.047685,
     "end_time": "2021-06-19T13:12:22.538150",
     "exception": false,
     "start_time": "2021-06-19T13:12:22.490465",
     "status": "completed"
    },
    "tags": []
   },
   "source": [
    "### Recommendation based on given movie - \"The Education of Little Tree\""
   ]
  },
  {
   "cell_type": "code",
   "execution_count": 29,
   "id": "perfect-display",
   "metadata": {
    "execution": {
     "iopub.execute_input": "2021-06-19T13:12:22.644100Z",
     "iopub.status.busy": "2021-06-19T13:12:22.643377Z",
     "iopub.status.idle": "2021-06-19T13:12:28.419079Z",
     "shell.execute_reply": "2021-06-19T13:12:28.418330Z",
     "shell.execute_reply.started": "2021-06-18T16:06:11.484954Z"
    },
    "papermill": {
     "duration": 5.833152,
     "end_time": "2021-06-19T13:12:28.419229",
     "exception": false,
     "start_time": "2021-06-19T13:12:22.586077",
     "status": "completed"
    },
    "tags": []
   },
   "outputs": [
    {
     "data": {
      "text/html": [
       "<div>\n",
       "<style scoped>\n",
       "    .dataframe tbody tr th:only-of-type {\n",
       "        vertical-align: middle;\n",
       "    }\n",
       "\n",
       "    .dataframe tbody tr th {\n",
       "        vertical-align: top;\n",
       "    }\n",
       "\n",
       "    .dataframe thead th {\n",
       "        text-align: right;\n",
       "    }\n",
       "</style>\n",
       "<table border=\"1\" class=\"dataframe\">\n",
       "  <thead>\n",
       "    <tr style=\"text-align: right;\">\n",
       "      <th></th>\n",
       "      <th>PearsonR</th>\n",
       "      <th>Name</th>\n",
       "      <th>count</th>\n",
       "      <th>mean</th>\n",
       "    </tr>\n",
       "  </thead>\n",
       "  <tbody>\n",
       "    <tr>\n",
       "      <th>0</th>\n",
       "      <td>1.000000</td>\n",
       "      <td>The Education of Little Tree</td>\n",
       "      <td>1298</td>\n",
       "      <td>3.640986</td>\n",
       "    </tr>\n",
       "    <tr>\n",
       "      <th>1</th>\n",
       "      <td>0.849023</td>\n",
       "      <td>Stoked: The Rise and Fall of Gator</td>\n",
       "      <td>1454</td>\n",
       "      <td>3.388583</td>\n",
       "    </tr>\n",
       "    <tr>\n",
       "      <th>2</th>\n",
       "      <td>0.774597</td>\n",
       "      <td>Life and Debt</td>\n",
       "      <td>1438</td>\n",
       "      <td>3.574409</td>\n",
       "    </tr>\n",
       "    <tr>\n",
       "      <th>3</th>\n",
       "      <td>0.768520</td>\n",
       "      <td>Carandiru</td>\n",
       "      <td>1249</td>\n",
       "      <td>3.599680</td>\n",
       "    </tr>\n",
       "    <tr>\n",
       "      <th>4</th>\n",
       "      <td>0.756284</td>\n",
       "      <td>Scratch</td>\n",
       "      <td>1706</td>\n",
       "      <td>3.783118</td>\n",
       "    </tr>\n",
       "    <tr>\n",
       "      <th>5</th>\n",
       "      <td>0.755746</td>\n",
       "      <td>Night and Fog</td>\n",
       "      <td>1455</td>\n",
       "      <td>3.890034</td>\n",
       "    </tr>\n",
       "    <tr>\n",
       "      <th>6</th>\n",
       "      <td>0.741415</td>\n",
       "      <td>Tupac: Resurrection</td>\n",
       "      <td>2367</td>\n",
       "      <td>3.701310</td>\n",
       "    </tr>\n",
       "    <tr>\n",
       "      <th>7</th>\n",
       "      <td>0.728919</td>\n",
       "      <td>Concert for George</td>\n",
       "      <td>1861</td>\n",
       "      <td>3.926921</td>\n",
       "    </tr>\n",
       "    <tr>\n",
       "      <th>8</th>\n",
       "      <td>0.721686</td>\n",
       "      <td>Rififi</td>\n",
       "      <td>1798</td>\n",
       "      <td>3.929922</td>\n",
       "    </tr>\n",
       "    <tr>\n",
       "      <th>9</th>\n",
       "      <td>0.710505</td>\n",
       "      <td>Unprecedented: The 2000 Presidential Election</td>\n",
       "      <td>2109</td>\n",
       "      <td>3.760076</td>\n",
       "    </tr>\n",
       "  </tbody>\n",
       "</table>\n",
       "</div>"
      ],
      "text/plain": [
       "   PearsonR                                           Name  count      mean\n",
       "0  1.000000                   The Education of Little Tree   1298  3.640986\n",
       "1  0.849023             Stoked: The Rise and Fall of Gator   1454  3.388583\n",
       "2  0.774597                                  Life and Debt   1438  3.574409\n",
       "3  0.768520                                      Carandiru   1249  3.599680\n",
       "4  0.756284                                        Scratch   1706  3.783118\n",
       "5  0.755746                                  Night and Fog   1455  3.890034\n",
       "6  0.741415                            Tupac: Resurrection   2367  3.701310\n",
       "7  0.728919                             Concert for George   1861  3.926921\n",
       "8  0.721686                                         Rififi   1798  3.929922\n",
       "9  0.710505  Unprecedented: The 2000 Presidential Election   2109  3.760076"
      ]
     },
     "execution_count": 29,
     "metadata": {},
     "output_type": "execute_result"
    }
   ],
   "source": [
    "Recommend_based_on_movie(\"The Education of Little Tree\", 0)"
   ]
  },
  {
   "cell_type": "markdown",
   "id": "secret-observation",
   "metadata": {
    "papermill": {
     "duration": 0.061115,
     "end_time": "2021-06-19T13:12:28.544089",
     "exception": false,
     "start_time": "2021-06-19T13:12:28.482974",
     "status": "completed"
    },
    "tags": []
   },
   "source": [
    "### Recommendation based on given movie - \"Character\""
   ]
  },
  {
   "cell_type": "code",
   "execution_count": 30,
   "id": "structured-harbor",
   "metadata": {
    "execution": {
     "iopub.execute_input": "2021-06-19T13:12:28.666050Z",
     "iopub.status.busy": "2021-06-19T13:12:28.665288Z",
     "iopub.status.idle": "2021-06-19T13:12:33.638956Z",
     "shell.execute_reply": "2021-06-19T13:12:33.638302Z",
     "shell.execute_reply.started": "2021-06-18T16:03:28.270475Z"
    },
    "papermill": {
     "duration": 5.035479,
     "end_time": "2021-06-19T13:12:33.639110",
     "exception": false,
     "start_time": "2021-06-19T13:12:28.603631",
     "status": "completed"
    },
    "tags": []
   },
   "outputs": [
    {
     "data": {
      "text/html": [
       "<div>\n",
       "<style scoped>\n",
       "    .dataframe tbody tr th:only-of-type {\n",
       "        vertical-align: middle;\n",
       "    }\n",
       "\n",
       "    .dataframe tbody tr th {\n",
       "        vertical-align: top;\n",
       "    }\n",
       "\n",
       "    .dataframe thead th {\n",
       "        text-align: right;\n",
       "    }\n",
       "</style>\n",
       "<table border=\"1\" class=\"dataframe\">\n",
       "  <thead>\n",
       "    <tr style=\"text-align: right;\">\n",
       "      <th></th>\n",
       "      <th>PearsonR</th>\n",
       "      <th>Name</th>\n",
       "      <th>count</th>\n",
       "      <th>mean</th>\n",
       "    </tr>\n",
       "  </thead>\n",
       "  <tbody>\n",
       "    <tr>\n",
       "      <th>0</th>\n",
       "      <td>1.000000</td>\n",
       "      <td>Character</td>\n",
       "      <td>1524</td>\n",
       "      <td>3.621391</td>\n",
       "    </tr>\n",
       "    <tr>\n",
       "      <th>1</th>\n",
       "      <td>0.714448</td>\n",
       "      <td>The Autobiography of Miss Jane Pittman</td>\n",
       "      <td>1772</td>\n",
       "      <td>3.977991</td>\n",
       "    </tr>\n",
       "    <tr>\n",
       "      <th>2</th>\n",
       "      <td>0.713041</td>\n",
       "      <td>Father's Little Dividend</td>\n",
       "      <td>1788</td>\n",
       "      <td>3.300336</td>\n",
       "    </tr>\n",
       "    <tr>\n",
       "      <th>3</th>\n",
       "      <td>0.712606</td>\n",
       "      <td>Operation Pacific</td>\n",
       "      <td>1590</td>\n",
       "      <td>3.757862</td>\n",
       "    </tr>\n",
       "    <tr>\n",
       "      <th>4</th>\n",
       "      <td>0.693215</td>\n",
       "      <td>Samurai Champloo</td>\n",
       "      <td>1327</td>\n",
       "      <td>4.395629</td>\n",
       "    </tr>\n",
       "    <tr>\n",
       "      <th>5</th>\n",
       "      <td>0.691037</td>\n",
       "      <td>Holiday in the Sun</td>\n",
       "      <td>1468</td>\n",
       "      <td>3.297003</td>\n",
       "    </tr>\n",
       "    <tr>\n",
       "      <th>6</th>\n",
       "      <td>0.686939</td>\n",
       "      <td>Spencer's Mountain</td>\n",
       "      <td>2269</td>\n",
       "      <td>3.825914</td>\n",
       "    </tr>\n",
       "    <tr>\n",
       "      <th>7</th>\n",
       "      <td>0.681311</td>\n",
       "      <td>MI-5: Vol. 2</td>\n",
       "      <td>1356</td>\n",
       "      <td>4.091445</td>\n",
       "    </tr>\n",
       "    <tr>\n",
       "      <th>8</th>\n",
       "      <td>0.681279</td>\n",
       "      <td>Foyle's War: Set 2</td>\n",
       "      <td>1506</td>\n",
       "      <td>4.116202</td>\n",
       "    </tr>\n",
       "    <tr>\n",
       "      <th>9</th>\n",
       "      <td>0.681250</td>\n",
       "      <td>U2: Go Home: Live From Slane Castle</td>\n",
       "      <td>1285</td>\n",
       "      <td>3.939300</td>\n",
       "    </tr>\n",
       "  </tbody>\n",
       "</table>\n",
       "</div>"
      ],
      "text/plain": [
       "   PearsonR                                    Name  count      mean\n",
       "0  1.000000                               Character   1524  3.621391\n",
       "1  0.714448  The Autobiography of Miss Jane Pittman   1772  3.977991\n",
       "2  0.713041                Father's Little Dividend   1788  3.300336\n",
       "3  0.712606                       Operation Pacific   1590  3.757862\n",
       "4  0.693215                        Samurai Champloo   1327  4.395629\n",
       "5  0.691037                      Holiday in the Sun   1468  3.297003\n",
       "6  0.686939                      Spencer's Mountain   2269  3.825914\n",
       "7  0.681311                            MI-5: Vol. 2   1356  4.091445\n",
       "8  0.681279                      Foyle's War: Set 2   1506  4.116202\n",
       "9  0.681250     U2: Go Home: Live From Slane Castle   1285  3.939300"
      ]
     },
     "execution_count": 30,
     "metadata": {},
     "output_type": "execute_result"
    }
   ],
   "source": [
    "Recommend_based_on_movie(\"Character\", 0)"
   ]
  }
 ],
 "metadata": {
  "kernelspec": {
   "display_name": "Python 3",
   "language": "python",
   "name": "python3"
  },
  "language_info": {
   "codemirror_mode": {
    "name": "ipython",
    "version": 3
   },
   "file_extension": ".py",
   "mimetype": "text/x-python",
   "name": "python",
   "nbconvert_exporter": "python",
   "pygments_lexer": "ipython3",
   "version": "3.7.9"
  },
  "papermill": {
   "default_parameters": {},
   "duration": 1276.014934,
   "end_time": "2021-06-19T13:12:39.098836",
   "environment_variables": {},
   "exception": null,
   "input_path": "__notebook__.ipynb",
   "output_path": "__notebook__.ipynb",
   "parameters": {},
   "start_time": "2021-06-19T12:51:23.083902",
   "version": "2.3.2"
  }
 },
 "nbformat": 4,
 "nbformat_minor": 5
}
